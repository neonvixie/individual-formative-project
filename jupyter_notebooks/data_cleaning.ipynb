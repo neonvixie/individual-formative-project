{
 "cells": [
  {
   "cell_type": "markdown",
   "id": "8a3907cf",
   "metadata": {},
   "source": [
    "# **Data cleaning**"
   ]
  },
  {
   "cell_type": "markdown",
   "id": "902d17e6",
   "metadata": {},
   "source": [
    "## Objectives\n",
    "\n",
    "* Clean the .csv raw data from kaggle\n",
    "\n",
    "## Inputs\n",
    "\n",
    "* This file uses `CarPrice_Assignment.csv` data located in the `data/raw`.\n",
    "\n",
    "## Outputs\n",
    "\n",
    "* The file will save the cleaned data into `data/cleaned` folder.\n"
   ]
  },
  {
   "cell_type": "markdown",
   "id": "c7d71381",
   "metadata": {},
   "source": [
    "## Load the libraries and the data\n",
    "In this section relevant data analysis libraries and the raw data will be loaded."
   ]
  },
  {
   "cell_type": "markdown",
   "id": "4fbfbd18",
   "metadata": {},
   "source": []
  }
 ],
 "metadata": {
  "language_info": {
   "name": "python"
  }
 },
 "nbformat": 4,
 "nbformat_minor": 5
}
