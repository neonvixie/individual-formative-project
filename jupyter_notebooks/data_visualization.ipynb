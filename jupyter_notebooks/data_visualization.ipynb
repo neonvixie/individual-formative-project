{
 "cells": [
  {
   "cell_type": "markdown",
   "id": "8c14ffcc",
   "metadata": {},
   "source": [
    "# **Data Visualization**"
   ]
  },
  {
   "cell_type": "markdown",
   "id": "3e39bec9",
   "metadata": {},
   "source": [
    "## Objectives\n",
    "* Read the cleaned data and visualize it in order to understand trends, correlations, and to understand which variables influence price.\n",
    "\n",
    "## Inputs\n",
    "* The file uses `CarPrice_cleaned.csv` located in `data\\cleaned` folder.\n",
    "\n",
    "## Outputs\n",
    "* This notebook generates various plots and relies on `matplotlib`, `seaborn` and `plotly` to generate them"
   ]
  },
  {
   "cell_type": "markdown",
   "id": "eb50f524",
   "metadata": {},
   "source": [
    "## Load the libraries and the data\n",
    "In this section relevant data analysis libraries and the raw data will be loaded."
   ]
  },
  {
   "cell_type": "code",
   "execution_count": 54,
   "id": "8fd32f07",
   "metadata": {},
   "outputs": [],
   "source": [
    "import numpy as np\n",
    "import pandas as pd\n",
    "import matplotlib.pyplot as plt\n",
    "import seaborn as sns\n",
    "import plotly.express as px\n",
    "sns.set_style('whitegrid')"
   ]
  },
  {
   "cell_type": "markdown",
   "id": "82602e60",
   "metadata": {},
   "source": [
    "The data will be loaded as the variable `df`:"
   ]
  },
  {
   "cell_type": "code",
   "execution_count": 55,
   "id": "f5a035ac",
   "metadata": {},
   "outputs": [
    {
     "name": "stdout",
     "output_type": "stream",
     "text": [
      "(205, 27)\n"
     ]
    },
    {
     "data": {
      "text/html": [
       "<div>\n",
       "<style scoped>\n",
       "    .dataframe tbody tr th:only-of-type {\n",
       "        vertical-align: middle;\n",
       "    }\n",
       "\n",
       "    .dataframe tbody tr th {\n",
       "        vertical-align: top;\n",
       "    }\n",
       "\n",
       "    .dataframe thead th {\n",
       "        text-align: right;\n",
       "    }\n",
       "</style>\n",
       "<table border=\"1\" class=\"dataframe\">\n",
       "  <thead>\n",
       "    <tr style=\"text-align: right;\">\n",
       "      <th></th>\n",
       "      <th>car_ID</th>\n",
       "      <th>symboling</th>\n",
       "      <th>CarName</th>\n",
       "      <th>fueltype</th>\n",
       "      <th>aspiration</th>\n",
       "      <th>doornumber</th>\n",
       "      <th>carbody</th>\n",
       "      <th>drivewheel</th>\n",
       "      <th>enginelocation</th>\n",
       "      <th>wheelbase</th>\n",
       "      <th>...</th>\n",
       "      <th>fuelsystem</th>\n",
       "      <th>boreratio</th>\n",
       "      <th>stroke</th>\n",
       "      <th>compressionratio</th>\n",
       "      <th>horsepower</th>\n",
       "      <th>peakrpm</th>\n",
       "      <th>citympg</th>\n",
       "      <th>highwaympg</th>\n",
       "      <th>price</th>\n",
       "      <th>brand</th>\n",
       "    </tr>\n",
       "  </thead>\n",
       "  <tbody>\n",
       "    <tr>\n",
       "      <th>0</th>\n",
       "      <td>1</td>\n",
       "      <td>3</td>\n",
       "      <td>alfa-romero giulia</td>\n",
       "      <td>gas</td>\n",
       "      <td>std</td>\n",
       "      <td>2</td>\n",
       "      <td>convertible</td>\n",
       "      <td>rwd</td>\n",
       "      <td>front</td>\n",
       "      <td>88.6</td>\n",
       "      <td>...</td>\n",
       "      <td>injection</td>\n",
       "      <td>3.47</td>\n",
       "      <td>2.68</td>\n",
       "      <td>9.0</td>\n",
       "      <td>111</td>\n",
       "      <td>5000</td>\n",
       "      <td>21</td>\n",
       "      <td>27</td>\n",
       "      <td>13495.0</td>\n",
       "      <td>alfa-romero</td>\n",
       "    </tr>\n",
       "    <tr>\n",
       "      <th>1</th>\n",
       "      <td>2</td>\n",
       "      <td>3</td>\n",
       "      <td>alfa-romero stelvio</td>\n",
       "      <td>gas</td>\n",
       "      <td>std</td>\n",
       "      <td>2</td>\n",
       "      <td>convertible</td>\n",
       "      <td>rwd</td>\n",
       "      <td>front</td>\n",
       "      <td>88.6</td>\n",
       "      <td>...</td>\n",
       "      <td>injection</td>\n",
       "      <td>3.47</td>\n",
       "      <td>2.68</td>\n",
       "      <td>9.0</td>\n",
       "      <td>111</td>\n",
       "      <td>5000</td>\n",
       "      <td>21</td>\n",
       "      <td>27</td>\n",
       "      <td>16500.0</td>\n",
       "      <td>alfa-romero</td>\n",
       "    </tr>\n",
       "    <tr>\n",
       "      <th>2</th>\n",
       "      <td>3</td>\n",
       "      <td>1</td>\n",
       "      <td>alfa-romero Quadrifoglio</td>\n",
       "      <td>gas</td>\n",
       "      <td>std</td>\n",
       "      <td>2</td>\n",
       "      <td>hatchback</td>\n",
       "      <td>rwd</td>\n",
       "      <td>front</td>\n",
       "      <td>94.5</td>\n",
       "      <td>...</td>\n",
       "      <td>injection</td>\n",
       "      <td>2.68</td>\n",
       "      <td>3.47</td>\n",
       "      <td>9.0</td>\n",
       "      <td>154</td>\n",
       "      <td>5000</td>\n",
       "      <td>19</td>\n",
       "      <td>26</td>\n",
       "      <td>16500.0</td>\n",
       "      <td>alfa-romero</td>\n",
       "    </tr>\n",
       "    <tr>\n",
       "      <th>3</th>\n",
       "      <td>4</td>\n",
       "      <td>2</td>\n",
       "      <td>audi 100 ls</td>\n",
       "      <td>gas</td>\n",
       "      <td>std</td>\n",
       "      <td>4</td>\n",
       "      <td>sedan</td>\n",
       "      <td>fwd</td>\n",
       "      <td>front</td>\n",
       "      <td>99.8</td>\n",
       "      <td>...</td>\n",
       "      <td>injection</td>\n",
       "      <td>3.19</td>\n",
       "      <td>3.40</td>\n",
       "      <td>10.0</td>\n",
       "      <td>102</td>\n",
       "      <td>5500</td>\n",
       "      <td>24</td>\n",
       "      <td>30</td>\n",
       "      <td>13950.0</td>\n",
       "      <td>audi</td>\n",
       "    </tr>\n",
       "    <tr>\n",
       "      <th>4</th>\n",
       "      <td>5</td>\n",
       "      <td>2</td>\n",
       "      <td>audi 100ls</td>\n",
       "      <td>gas</td>\n",
       "      <td>std</td>\n",
       "      <td>4</td>\n",
       "      <td>sedan</td>\n",
       "      <td>4wd</td>\n",
       "      <td>front</td>\n",
       "      <td>99.4</td>\n",
       "      <td>...</td>\n",
       "      <td>injection</td>\n",
       "      <td>3.19</td>\n",
       "      <td>3.40</td>\n",
       "      <td>8.0</td>\n",
       "      <td>115</td>\n",
       "      <td>5500</td>\n",
       "      <td>18</td>\n",
       "      <td>22</td>\n",
       "      <td>17450.0</td>\n",
       "      <td>audi</td>\n",
       "    </tr>\n",
       "  </tbody>\n",
       "</table>\n",
       "<p>5 rows × 27 columns</p>\n",
       "</div>"
      ],
      "text/plain": [
       "   car_ID  symboling                   CarName fueltype aspiration  \\\n",
       "0       1          3        alfa-romero giulia      gas        std   \n",
       "1       2          3       alfa-romero stelvio      gas        std   \n",
       "2       3          1  alfa-romero Quadrifoglio      gas        std   \n",
       "3       4          2               audi 100 ls      gas        std   \n",
       "4       5          2                audi 100ls      gas        std   \n",
       "\n",
       "   doornumber      carbody drivewheel enginelocation  wheelbase  ...  \\\n",
       "0           2  convertible        rwd          front       88.6  ...   \n",
       "1           2  convertible        rwd          front       88.6  ...   \n",
       "2           2    hatchback        rwd          front       94.5  ...   \n",
       "3           4        sedan        fwd          front       99.8  ...   \n",
       "4           4        sedan        4wd          front       99.4  ...   \n",
       "\n",
       "   fuelsystem  boreratio  stroke  compressionratio horsepower  peakrpm  \\\n",
       "0   injection       3.47    2.68               9.0        111     5000   \n",
       "1   injection       3.47    2.68               9.0        111     5000   \n",
       "2   injection       2.68    3.47               9.0        154     5000   \n",
       "3   injection       3.19    3.40              10.0        102     5500   \n",
       "4   injection       3.19    3.40               8.0        115     5500   \n",
       "\n",
       "   citympg highwaympg    price        brand  \n",
       "0       21         27  13495.0  alfa-romero  \n",
       "1       21         27  16500.0  alfa-romero  \n",
       "2       19         26  16500.0  alfa-romero  \n",
       "3       24         30  13950.0         audi  \n",
       "4       18         22  17450.0         audi  \n",
       "\n",
       "[5 rows x 27 columns]"
      ]
     },
     "execution_count": 55,
     "metadata": {},
     "output_type": "execute_result"
    }
   ],
   "source": [
    "df = pd.read_csv(\"../data/cleaned/CarPrice_cleaned.csv\")\n",
    "print(df.shape)\n",
    "df.head()"
   ]
  },
  {
   "cell_type": "markdown",
   "id": "d9932224",
   "metadata": {},
   "source": [
    "## Overview of the price data distribution\n",
    "This section will provide a brief overview of the price distribution. Let's first look at the summary statistics for price:"
   ]
  },
  {
   "cell_type": "code",
   "execution_count": 56,
   "id": "7862ee87",
   "metadata": {},
   "outputs": [
    {
     "data": {
      "text/plain": [
       "count      205.0\n",
       "mean     13276.7\n",
       "std       7988.9\n",
       "min       5118.0\n",
       "25%       7788.0\n",
       "50%      10295.0\n",
       "75%      16503.0\n",
       "max      45400.0\n",
       "Name: price, dtype: float64"
      ]
     },
     "execution_count": 56,
     "metadata": {},
     "output_type": "execute_result"
    }
   ],
   "source": [
    "df['price'].describe().round(1)"
   ]
  },
  {
   "cell_type": "markdown",
   "id": "c2eb75bd",
   "metadata": {},
   "source": [
    "This data will be easier to visualize when presented as a box plot and a swarm plot:"
   ]
  },
  {
   "cell_type": "code",
   "execution_count": 57,
   "id": "356719b0",
   "metadata": {},
   "outputs": [
    {
     "data": {
      "image/png": "[encoded data removed]",
      "text/plain": [
       "<Figure size 600x400 with 2 Axes>"
      ]
     },
     "metadata": {},
     "output_type": "display_data"
    }
   ],
   "source": [
    "fig, ax = plt.subplots(ncols=2, nrows=1, figsize=(6, 4))\n",
    "sns.boxplot(y='price', data=df, ax=ax[0])\n",
    "sns.swarmplot(y='price', data=df, ax=ax[1], color='blue', alpha=0.5)\n",
    "plt.tight_layout()\n",
    "plt.show()"
   ]
  },
  {
   "cell_type": "markdown",
   "id": "c9b61f02",
   "metadata": {},
   "source": [
    "Here we can clearly see that the majority of car prices are concentrated at the lower end of the price range, with a significant number of outliers in the higher price range. These are likely more premium car models.\n",
    "\n",
    "Next we will take a closer look at the price distribution with the kde plot overlayed over the histogram:"
   ]
  },
  {
   "cell_type": "code",
   "execution_count": 58,
   "id": "040e4f8c",
   "metadata": {},
   "outputs": [
    {
     "data": {
      "image/png": "[encoded data removed]",
      "text/plain": [
       "<Figure size 640x480 with 1 Axes>"
      ]
     },
     "metadata": {},
     "output_type": "display_data"
    }
   ],
   "source": [
    "sns.histplot(data=df, x='price', kde=True)\n",
    "plt.show()"
   ]
  },
  {
   "cell_type": "markdown",
   "id": "7b1ae793",
   "metadata": {},
   "source": [
    "Here we can see that the data shows a kind of mix between right skewed and bimodal data, with the second mode having clearly less objects. As expected most of the prices are concentrated in $5,000 - $20,000 range, with some significant outliers."
   ]
  },
  {
   "cell_type": "markdown",
   "id": "8520c3e9",
   "metadata": {},
   "source": [
    "## Categorical variables and average price"
   ]
  },
  {
   "cell_type": "markdown",
   "id": "b7f99897",
   "metadata": {},
   "source": [
    "### Analysis of Technical and Mechanical Categorical Variables\n",
    "Below I will present several bar charts, each showing the relationship between a categorical variable and the average car price in dolars for each category:"
   ]
  },
  {
   "cell_type": "code",
   "execution_count": 59,
   "id": "d67afc7f",
   "metadata": {},
   "outputs": [
    {
     "data": {
      "application/vnd.plotly.v1+json": {
       "config": {
        "plotlyServerURL": "https://plot.ly"
       },
       "data": [
        {
         "name": "fueltype",
         "type": "bar",
         "x": [
          "gas",
          "diesel"
         ],
         "xaxis": "x",
         "y": [
          12999.7982,
          15838.15
         ],
         "yaxis": "y"
        },
        {
         "name": "aspiration",
         "type": "bar",
         "x": [
          "std",
          "turbo"
         ],
         "xaxis": "x2",
         "y": [
          12611.270833333334,
          16298.166675675677
         ],
         "yaxis": "y2"
        },
        {
         "name": "drivewheel",
         "type": "bar",
         "x": [
          "fwd",
          "4wd",
          "rwd"
         ],
         "xaxis": "x3",
         "y": [
          9239.308333333332,
          11087.463,
          19910.809210526317
         ],
         "yaxis": "y3"
        },
        {
         "name": "enginelocation",
         "type": "bar",
         "x": [
          "front",
          "rear"
         ],
         "xaxis": "x4",
         "y": [
          12961.097361386139,
          34528
         ],
         "yaxis": "y4"
        },
        {
         "name": "enginetype",
         "type": "bar",
         "x": [
          "ohc",
          "rotor",
          "l",
          "dohc"
         ],
         "xaxis": "x5",
         "y": [
          12757.483903409091,
          13020,
          14627.583333333334,
          19138.26923076923
         ],
         "yaxis": "y5"
        },
        {
         "name": "fuelsystem",
         "type": "bar",
         "x": [
          "carburetor",
          "injection"
         ],
         "xaxis": "x6",
         "y": [
          7663.8,
          16868.973336
         ],
         "yaxis": "y6"
        }
       ],
       "layout": {
        "annotations": [
         {
          "font": {
           "size": 16
          },
          "showarrow": false,
          "text": "fueltype",
          "x": 0.14444444444444446,
          "xanchor": "center",
          "xref": "paper",
          "y": 1,
          "yanchor": "bottom",
          "yref": "paper"
         },
         {
          "font": {
           "size": 16
          },
          "showarrow": false,
          "text": "aspiration",
          "x": 0.5,
          "xanchor": "center",
          "xref": "paper",
          "y": 1,
          "yanchor": "bottom",
          "yref": "paper"
         },
         {
          "font": {
           "size": 16
          },
          "showarrow": false,
          "text": "drivewheel",
          "x": 0.8555555555555556,
          "xanchor": "center",
          "xref": "paper",
          "y": 1,
          "yanchor": "bottom",
          "yref": "paper"
         },
         {
          "font": {
           "size": 16
          },
          "showarrow": false,
          "text": "enginelocation",
          "x": 0.14444444444444446,
          "xanchor": "center",
          "xref": "paper",
          "y": 0.375,
          "yanchor": "bottom",
          "yref": "paper"
         },
         {
          "font": {
           "size": 16
          },
          "showarrow": false,
          "text": "enginetype",
          "x": 0.5,
          "xanchor": "center",
          "xref": "paper",
          "y": 0.375,
          "yanchor": "bottom",
          "yref": "paper"
         },
         {
          "font": {
           "size": 16
          },
          "showarrow": false,
          "text": "fuelsystem",
          "x": 0.8555555555555556,
          "xanchor": "center",
          "xref": "paper",
          "y": 0.375,
          "yanchor": "bottom",
          "yref": "paper"
         }
        ],
        "height": 600,
        "showlegend": false,
        "template": {
         "data": {
          "bar": [
           {
            "error_x": {
             "color": "#2a3f5f"
            },
            "error_y": {
             "color": "#2a3f5f"
            },
            "marker": {
             "line": {
              "color": "#E5ECF6",
              "width": 0.5
             },
             "pattern": {
              "fillmode": "overlay",
              "size": 10,
              "solidity": 0.2
             }
            },
            "type": "bar"
           }
          ],
          "barpolar": [
           {
            "marker": {
             "line": {
              "color": "#E5ECF6",
              "width": 0.5
             },
             "pattern": {
              "fillmode": "overlay",
              "size": 10,
              "solidity": 0.2
             }
            },
            "type": "barpolar"
           }
          ],
          "carpet": [
           {
            "aaxis": {
             "endlinecolor": "#2a3f5f",
             "gridcolor": "white",
             "linecolor": "white",
             "minorgridcolor": "white",
             "startlinecolor": "#2a3f5f"
            },
            "baxis": {
             "endlinecolor": "#2a3f5f",
             "gridcolor": "white",
             "linecolor": "white",
             "minorgridcolor": "white",
             "startlinecolor": "#2a3f5f"
            },
            "type": "carpet"
           }
          ],
          "choropleth": [
           {
            "colorbar": {
             "outlinewidth": 0,
             "ticks": ""
            },
            "type": "choropleth"
           }
          ],
          "contour": [
           {
            "colorbar": {
             "outlinewidth": 0,
             "ticks": ""
            },
            "colorscale": [
             [
              0,
              "#0d0887"
             ],
             [
              0.1111111111111111,
              "#46039f"
             ],
             [
              0.2222222222222222,
              "#7201a8"
             ],
             [
              0.3333333333333333,
              "#9c179e"
             ],
             [
              0.4444444444444444,
              "#bd3786"
             ],
             [
              0.5555555555555556,
              "#d8576b"
             ],
             [
              0.6666666666666666,
              "#ed7953"
             ],
             [
              0.7777777777777778,
              "#fb9f3a"
             ],
             [
              0.8888888888888888,
              "#fdca26"
             ],
             [
              1,
              "#f0f921"
             ]
            ],
            "type": "contour"
           }
          ],
          "contourcarpet": [
           {
            "colorbar": {
             "outlinewidth": 0,
             "ticks": ""
            },
            "type": "contourcarpet"
           }
          ],
          "heatmap": [
           {
            "colorbar": {
             "outlinewidth": 0,
             "ticks": ""
            },
            "colorscale": [
             [
              0,
              "#0d0887"
             ],
             [
              0.1111111111111111,
              "#46039f"
             ],
             [
              0.2222222222222222,
              "#7201a8"
             ],
             [
              0.3333333333333333,
              "#9c179e"
             ],
             [
              0.4444444444444444,
              "#bd3786"
             ],
             [
              0.5555555555555556,
              "#d8576b"
             ],
             [
              0.6666666666666666,
              "#ed7953"
             ],
             [
              0.7777777777777778,
              "#fb9f3a"
             ],
             [
              0.8888888888888888,
              "#fdca26"
             ],
             [
              1,
              "#f0f921"
             ]
            ],
            "type": "heatmap"
           }
          ],
          "heatmapgl": [
           {
            "colorbar": {
             "outlinewidth": 0,
             "ticks": ""
            },
            "colorscale": [
             [
              0,
              "#0d0887"
             ],
             [
              0.1111111111111111,
              "#46039f"
             ],
             [
              0.2222222222222222,
              "#7201a8"
             ],
             [
              0.3333333333333333,
              "#9c179e"
             ],
             [
              0.4444444444444444,
              "#bd3786"
             ],
             [
              0.5555555555555556,
              "#d8576b"
             ],
             [
              0.6666666666666666,
              "#ed7953"
             ],
             [
              0.7777777777777778,
              "#fb9f3a"
             ],
             [
              0.8888888888888888,
              "#fdca26"
             ],
             [
              1,
              "#f0f921"
             ]
            ],
            "type": "heatmapgl"
           }
          ],
          "histogram": [
           {
            "marker": {
             "pattern": {
              "fillmode": "overlay",
              "size": 10,
              "solidity": 0.2
             }
            },
            "type": "histogram"
           }
          ],
          "histogram2d": [
           {
            "colorbar": {
             "outlinewidth": 0,
             "ticks": ""
            },
            "colorscale": [
             [
              0,
              "#0d0887"
             ],
             [
              0.1111111111111111,
              "#46039f"
             ],
             [
              0.2222222222222222,
              "#7201a8"
             ],
             [
              0.3333333333333333,
              "#9c179e"
             ],
             [
              0.4444444444444444,
              "#bd3786"
             ],
             [
              0.5555555555555556,
              "#d8576b"
             ],
             [
              0.6666666666666666,
              "#ed7953"
             ],
             [
              0.7777777777777778,
              "#fb9f3a"
             ],
             [
              0.8888888888888888,
              "#fdca26"
             ],
             [
              1,
              "#f0f921"
             ]
            ],
            "type": "histogram2d"
           }
          ],
          "histogram2dcontour": [
           {
            "colorbar": {
             "outlinewidth": 0,
             "ticks": ""
            },
            "colorscale": [
             [
              0,
              "#0d0887"
             ],
             [
              0.1111111111111111,
              "#46039f"
             ],
             [
              0.2222222222222222,
              "#7201a8"
             ],
             [
              0.3333333333333333,
              "#9c179e"
             ],
             [
              0.4444444444444444,
              "#bd3786"
             ],
             [
              0.5555555555555556,
              "#d8576b"
             ],
             [
              0.6666666666666666,
              "#ed7953"
             ],
             [
              0.7777777777777778,
              "#fb9f3a"
             ],
             [
              0.8888888888888888,
              "#fdca26"
             ],
             [
              1,
              "#f0f921"
             ]
            ],
            "type": "histogram2dcontour"
           }
          ],
          "mesh3d": [
           {
            "colorbar": {
             "outlinewidth": 0,
             "ticks": ""
            },
            "type": "mesh3d"
           }
          ],
          "parcoords": [
           {
            "line": {
             "colorbar": {
              "outlinewidth": 0,
              "ticks": ""
             }
            },
            "type": "parcoords"
           }
          ],
          "pie": [
           {
            "automargin": true,
            "type": "pie"
           }
          ],
          "scatter": [
           {
            "fillpattern": {
             "fillmode": "overlay",
             "size": 10,
             "solidity": 0.2
            },
            "type": "scatter"
           }
          ],
          "scatter3d": [
           {
            "line": {
             "colorbar": {
              "outlinewidth": 0,
              "ticks": ""
             }
            },
            "marker": {
             "colorbar": {
              "outlinewidth": 0,
              "ticks": ""
             }
            },
            "type": "scatter3d"
           }
          ],
          "scattercarpet": [
           {
            "marker": {
             "colorbar": {
              "outlinewidth": 0,
              "ticks": ""
             }
            },
            "type": "scattercarpet"
           }
          ],
          "scattergeo": [
           {
            "marker": {
             "colorbar": {
              "outlinewidth": 0,
              "ticks": ""
             }
            },
            "type": "scattergeo"
           }
          ],
          "scattergl": [
           {
            "marker": {
             "colorbar": {
              "outlinewidth": 0,
              "ticks": ""
             }
            },
            "type": "scattergl"
           }
          ],
          "scattermapbox": [
           {
            "marker": {
             "colorbar": {
              "outlinewidth": 0,
              "ticks": ""
             }
            },
            "type": "scattermapbox"
           }
          ],
          "scatterpolar": [
           {
            "marker": {
             "colorbar": {
              "outlinewidth": 0,
              "ticks": ""
             }
            },
            "type": "scatterpolar"
           }
          ],
          "scatterpolargl": [
           {
            "marker": {
             "colorbar": {
              "outlinewidth": 0,
              "ticks": ""
             }
            },
            "type": "scatterpolargl"
           }
          ],
          "scatterternary": [
           {
            "marker": {
             "colorbar": {
              "outlinewidth": 0,
              "ticks": ""
             }
            },
            "type": "scatterternary"
           }
          ],
          "surface": [
           {
            "colorbar": {
             "outlinewidth": 0,
             "ticks": ""
            },
            "colorscale": [
             [
              0,
              "#0d0887"
             ],
             [
              0.1111111111111111,
              "#46039f"
             ],
             [
              0.2222222222222222,
              "#7201a8"
             ],
             [
              0.3333333333333333,
              "#9c179e"
             ],
             [
              0.4444444444444444,
              "#bd3786"
             ],
             [
              0.5555555555555556,
              "#d8576b"
             ],
             [
              0.6666666666666666,
              "#ed7953"
             ],
             [
              0.7777777777777778,
              "#fb9f3a"
             ],
             [
              0.8888888888888888,
              "#fdca26"
             ],
             [
              1,
              "#f0f921"
             ]
            ],
            "type": "surface"
           }
          ],
          "table": [
           {
            "cells": {
             "fill": {
              "color": "#EBF0F8"
             },
             "line": {
              "color": "white"
             }
            },
            "header": {
             "fill": {
              "color": "#C8D4E3"
             },
             "line": {
              "color": "white"
             }
            },
            "type": "table"
           }
          ]
         },
         "layout": {
          "annotationdefaults": {
           "arrowcolor": "#2a3f5f",
           "arrowhead": 0,
           "arrowwidth": 1
          },
          "autotypenumbers": "strict",
          "coloraxis": {
           "colorbar": {
            "outlinewidth": 0,
            "ticks": ""
           }
          },
          "colorscale": {
           "diverging": [
            [
             0,
             "#8e0152"
            ],
            [
             0.1,
             "#c51b7d"
            ],
            [
             0.2,
             "#de77ae"
            ],
            [
             0.3,
             "#f1b6da"
            ],
            [
             0.4,
             "#fde0ef"
            ],
            [
             0.5,
             "#f7f7f7"
            ],
            [
             0.6,
             "#e6f5d0"
            ],
            [
             0.7,
             "#b8e186"
            ],
            [
             0.8,
             "#7fbc41"
            ],
            [
             0.9,
             "#4d9221"
            ],
            [
             1,
             "#276419"
            ]
           ],
           "sequential": [
            [
             0,
             "#0d0887"
            ],
            [
             0.1111111111111111,
             "#46039f"
            ],
            [
             0.2222222222222222,
             "#7201a8"
            ],
            [
             0.3333333333333333,
             "#9c179e"
            ],
            [
             0.4444444444444444,
             "#bd3786"
            ],
            [
             0.5555555555555556,
             "#d8576b"
            ],
            [
             0.6666666666666666,
             "#ed7953"
            ],
            [
             0.7777777777777778,
             "#fb9f3a"
            ],
            [
             0.8888888888888888,
             "#fdca26"
            ],
            [
             1,
             "#f0f921"
            ]
           ],
           "sequentialminus": [
            [
             0,
             "#0d0887"
            ],
            [
             0.1111111111111111,
             "#46039f"
            ],
            [
             0.2222222222222222,
             "#7201a8"
            ],
            [
             0.3333333333333333,
             "#9c179e"
            ],
            [
             0.4444444444444444,
             "#bd3786"
            ],
            [
             0.5555555555555556,
             "#d8576b"
            ],
            [
             0.6666666666666666,
             "#ed7953"
            ],
            [
             0.7777777777777778,
             "#fb9f3a"
            ],
            [
             0.8888888888888888,
             "#fdca26"
            ],
            [
             1,
             "#f0f921"
            ]
           ]
          },
          "colorway": [
           "#636efa",
           "#EF553B",
           "#00cc96",
           "#ab63fa",
           "#FFA15A",
           "#19d3f3",
           "#FF6692",
           "#B6E880",
           "#FF97FF",
           "#FECB52"
          ],
          "font": {
           "color": "#2a3f5f"
          },
          "geo": {
           "bgcolor": "white",
           "lakecolor": "white",
           "landcolor": "#E5ECF6",
           "showlakes": true,
           "showland": true,
           "subunitcolor": "white"
          },
          "hoverlabel": {
           "align": "left"
          },
          "hovermode": "closest",
          "mapbox": {
           "style": "light"
          },
          "paper_bgcolor": "white",
          "plot_bgcolor": "#E5ECF6",
          "polar": {
           "angularaxis": {
            "gridcolor": "white",
            "linecolor": "white",
            "ticks": ""
           },
           "bgcolor": "#E5ECF6",
           "radialaxis": {
            "gridcolor": "white",
            "linecolor": "white",
            "ticks": ""
           }
          },
          "scene": {
           "xaxis": {
            "backgroundcolor": "#E5ECF6",
            "gridcolor": "white",
            "gridwidth": 2,
            "linecolor": "white",
            "showbackground": true,
            "ticks": "",
            "zerolinecolor": "white"
           },
           "yaxis": {
            "backgroundcolor": "#E5ECF6",
            "gridcolor": "white",
            "gridwidth": 2,
            "linecolor": "white",
            "showbackground": true,
            "ticks": "",
            "zerolinecolor": "white"
           },
           "zaxis": {
            "backgroundcolor": "#E5ECF6",
            "gridcolor": "white",
            "gridwidth": 2,
            "linecolor": "white",
            "showbackground": true,
            "ticks": "",
            "zerolinecolor": "white"
           }
          },
          "shapedefaults": {
           "line": {
            "color": "#2a3f5f"
           }
          },
          "ternary": {
           "aaxis": {
            "gridcolor": "white",
            "linecolor": "white",
            "ticks": ""
           },
           "baxis": {
            "gridcolor": "white",
            "linecolor": "white",
            "ticks": ""
           },
           "bgcolor": "#E5ECF6",
           "caxis": {
            "gridcolor": "white",
            "linecolor": "white",
            "ticks": ""
           }
          },
          "title": {
           "x": 0.05
          },
          "xaxis": {
           "automargin": true,
           "gridcolor": "white",
           "linecolor": "white",
           "ticks": "",
           "title": {
            "standoff": 15
           },
           "zerolinecolor": "white",
           "zerolinewidth": 2
          },
          "yaxis": {
           "automargin": true,
           "gridcolor": "white",
           "linecolor": "white",
           "ticks": "",
           "title": {
            "standoff": 15
           },
           "zerolinecolor": "white",
           "zerolinewidth": 2
          }
         }
        },
        "title": {
         "text": "Average Car Price by Technical and Mechanical Features"
        },
        "width": 1000,
        "xaxis": {
         "anchor": "y",
         "domain": [
          0,
          0.2888888888888889
         ]
        },
        "xaxis2": {
         "anchor": "y2",
         "domain": [
          0.35555555555555557,
          0.6444444444444445
         ]
        },
        "xaxis3": {
         "anchor": "y3",
         "domain": [
          0.7111111111111111,
          1
         ]
        },
        "xaxis4": {
         "anchor": "y4",
         "domain": [
          0,
          0.2888888888888889
         ]
        },
        "xaxis5": {
         "anchor": "y5",
         "domain": [
          0.35555555555555557,
          0.6444444444444445
         ]
        },
        "xaxis6": {
         "anchor": "y6",
         "domain": [
          0.7111111111111111,
          1
         ]
        },
        "yaxis": {
         "anchor": "x",
         "domain": [
          0.625,
          1
         ]
        },
        "yaxis2": {
         "anchor": "x2",
         "domain": [
          0.625,
          1
         ]
        },
        "yaxis3": {
         "anchor": "x3",
         "domain": [
          0.625,
          1
         ]
        },
        "yaxis4": {
         "anchor": "x4",
         "domain": [
          0,
          0.375
         ]
        },
        "yaxis5": {
         "anchor": "x5",
         "domain": [
          0,
          0.375
         ]
        },
        "yaxis6": {
         "anchor": "x6",
         "domain": [
          0,
          0.375
         ]
        }
       }
      }
     },
     "metadata": {},
     "output_type": "display_data"
    }
   ],
   "source": [
    "# Import the necessary Plotly modules: graph_objects for creating plots, and make_subplots for arranging multiple plots in a grid.\n",
    "import plotly.graph_objects as go\n",
    "from plotly.subplots import make_subplots\n",
    "\n",
    "# List of variables to plot\n",
    "cat_vars = ['fueltype', 'aspiration', 'drivewheel', 'enginelocation', 'enginetype', 'fuelsystem']\n",
    "\n",
    "# Create subplot grid: 2 rows, 3 columns\n",
    "fig = make_subplots(rows=2, cols=3, subplot_titles=cat_vars)\n",
    "\n",
    "# Loop through each categorical variable, calculate average price, and add a bar plot to the corresponding subplot\n",
    "for i, var in enumerate(cat_vars):\n",
    "    avg_price = df.groupby(var)['price'].mean().sort_values()\n",
    "    row = i // 3 + 1\n",
    "    col = i % 3 + 1\n",
    "    fig.add_trace(\n",
    "        go.Bar(x=avg_price.index, y=avg_price.values, name=var),\n",
    "        row=row, col=col\n",
    "    )\n",
    "\n",
    "# Set the overall figure size, adds a main title, and hide the legend (since each subplot is self-explanatory).\n",
    "fig.update_layout(\n",
    "    height=600, width=1000,\n",
    "    title_text=\"Average Car Price by Technical and Mechanical Features\",\n",
    "    showlegend=False\n",
    ")\n",
    "fig.show()"
   ]
  },
  {
   "cell_type": "markdown",
   "id": "ad670aaf",
   "metadata": {},
   "source": [
    "From this we can see following definite concusions:\n",
    "- **diesel** cars are more expensive.\n",
    "- **turbo** aspiration is more expensive because it results in more power.\n",
    "- surprisingly, cars with **rear-wheel drive** are the most expensive, as oposed to the expected four-wheel drive\n",
    "- cars with engines located in the **rear** of the car are more expensive\n",
    "- **dohc**, or dual overhead cam engines are most expensive, probably because it is a newer technology which is more efficient than the classic ohc.\n",
    "- **fuel injection** fuelsystems are more expensive, probably because it is also a newer, more efficient technology, especially in the case of the majority of cars which use mpfi (Multi-Port Fuel Injection; see data cleaning notebook for details)"
   ]
  },
  {
   "cell_type": "markdown",
   "id": "c7089326",
   "metadata": {},
   "source": [
    "### Car body and average price\n",
    "There is an assumption that the body type of a car will have a significant influence on its price:"
   ]
  },
  {
   "cell_type": "code",
   "execution_count": 60,
   "id": "c2ceab45",
   "metadata": {},
   "outputs": [
    {
     "data": {
      "text/html": [
       "<div>\n",
       "<style scoped>\n",
       "    .dataframe tbody tr th:only-of-type {\n",
       "        vertical-align: middle;\n",
       "    }\n",
       "\n",
       "    .dataframe tbody tr th {\n",
       "        vertical-align: top;\n",
       "    }\n",
       "\n",
       "    .dataframe thead th {\n",
       "        text-align: right;\n",
       "    }\n",
       "</style>\n",
       "<table border=\"1\" class=\"dataframe\">\n",
       "  <thead>\n",
       "    <tr style=\"text-align: right;\">\n",
       "      <th></th>\n",
       "      <th>carbody</th>\n",
       "      <th>count</th>\n",
       "      <th>avg_price</th>\n",
       "    </tr>\n",
       "  </thead>\n",
       "  <tbody>\n",
       "    <tr>\n",
       "      <th>0</th>\n",
       "      <td>convertible</td>\n",
       "      <td>6</td>\n",
       "      <td>21890.500000</td>\n",
       "    </tr>\n",
       "    <tr>\n",
       "      <th>1</th>\n",
       "      <td>hardtop</td>\n",
       "      <td>8</td>\n",
       "      <td>22208.500000</td>\n",
       "    </tr>\n",
       "    <tr>\n",
       "      <th>2</th>\n",
       "      <td>hatchback</td>\n",
       "      <td>70</td>\n",
       "      <td>10376.652386</td>\n",
       "    </tr>\n",
       "    <tr>\n",
       "      <th>3</th>\n",
       "      <td>sedan</td>\n",
       "      <td>96</td>\n",
       "      <td>14344.270833</td>\n",
       "    </tr>\n",
       "    <tr>\n",
       "      <th>4</th>\n",
       "      <td>wagon</td>\n",
       "      <td>25</td>\n",
       "      <td>12371.960000</td>\n",
       "    </tr>\n",
       "  </tbody>\n",
       "</table>\n",
       "</div>"
      ],
      "text/plain": [
       "       carbody  count     avg_price\n",
       "0  convertible      6  21890.500000\n",
       "1      hardtop      8  22208.500000\n",
       "2    hatchback     70  10376.652386\n",
       "3        sedan     96  14344.270833\n",
       "4        wagon     25  12371.960000"
      ]
     },
     "execution_count": 60,
     "metadata": {},
     "output_type": "execute_result"
    }
   ],
   "source": [
    "carbody = df.groupby('carbody').agg(count=('carbody', 'size'), avg_price=('price', 'mean')).reset_index()\n",
    "carbody"
   ]
  },
  {
   "cell_type": "markdown",
   "id": "a04b22a2",
   "metadata": {},
   "source": [
    "Here's the summary of that data in a bar chart:"
   ]
  },
  {
   "cell_type": "code",
   "execution_count": 61,
   "id": "bf03a4ef",
   "metadata": {},
   "outputs": [
    {
     "data": {
      "image/png": "[encoded data removed]",
      "text/plain": [
       "<Figure size 1000x500 with 2 Axes>"
      ]
     },
     "metadata": {},
     "output_type": "display_data"
    }
   ],
   "source": [
    "fig, ax = plt.subplots(nrows=1, ncols=2, figsize=(10, 5))\n",
    "\n",
    "ax[0].bar(x=carbody['carbody'], height=carbody['count'], color='blue', alpha=0.7)\n",
    "ax[0].set_ylabel('Count')\n",
    "ax[0].set_title('Count of Cars by Car Body Type')\n",
    "ax[0].tick_params(axis='x', rotation=45) # it rotates the names making them more readable\n",
    "\n",
    "ax[1].bar(x=carbody['carbody'], height=carbody['avg_price'], color='green', alpha=0.7)\n",
    "ax[1].set_ylabel('Average Price ($)')\n",
    "ax[1].set_title('Average Car Price by Car Body Type')\n",
    "ax[1].tick_params(axis='x', rotation=45)\n",
    "\n",
    "plt.tight_layout()\n",
    "plt.show()"
   ]
  },
  {
   "cell_type": "markdown",
   "id": "d1b8fe41",
   "metadata": {},
   "source": [
    "This clearly shows that convertible and hardtop cars are the most expensive body types. However they are also quite uncommon, which might suggest that they only fill a small niche within the market."
   ]
  },
  {
   "cell_type": "markdown",
   "id": "232b4995",
   "metadata": {},
   "source": [
    "### Car brand and average price\n",
    "Here we will construct a DataFrame that groups different car models by brand and averages their prices:"
   ]
  },
  {
   "cell_type": "code",
   "execution_count": 62,
   "id": "37be49bb",
   "metadata": {},
   "outputs": [
    {
     "data": {
      "text/html": [
       "<div>\n",
       "<style scoped>\n",
       "    .dataframe tbody tr th:only-of-type {\n",
       "        vertical-align: middle;\n",
       "    }\n",
       "\n",
       "    .dataframe tbody tr th {\n",
       "        vertical-align: top;\n",
       "    }\n",
       "\n",
       "    .dataframe thead th {\n",
       "        text-align: right;\n",
       "    }\n",
       "</style>\n",
       "<table border=\"1\" class=\"dataframe\">\n",
       "  <thead>\n",
       "    <tr style=\"text-align: right;\">\n",
       "      <th></th>\n",
       "      <th>brand</th>\n",
       "      <th>count</th>\n",
       "      <th>avg_price</th>\n",
       "    </tr>\n",
       "  </thead>\n",
       "  <tbody>\n",
       "    <tr>\n",
       "      <th>0</th>\n",
       "      <td>alfa-romero</td>\n",
       "      <td>3</td>\n",
       "      <td>15498.333333</td>\n",
       "    </tr>\n",
       "    <tr>\n",
       "      <th>1</th>\n",
       "      <td>audi</td>\n",
       "      <td>7</td>\n",
       "      <td>17859.166714</td>\n",
       "    </tr>\n",
       "    <tr>\n",
       "      <th>2</th>\n",
       "      <td>bmw</td>\n",
       "      <td>8</td>\n",
       "      <td>26118.750000</td>\n",
       "    </tr>\n",
       "    <tr>\n",
       "      <th>3</th>\n",
       "      <td>buick</td>\n",
       "      <td>8</td>\n",
       "      <td>33647.000000</td>\n",
       "    </tr>\n",
       "    <tr>\n",
       "      <th>4</th>\n",
       "      <td>chevrolet</td>\n",
       "      <td>3</td>\n",
       "      <td>6007.000000</td>\n",
       "    </tr>\n",
       "    <tr>\n",
       "      <th>5</th>\n",
       "      <td>dodge</td>\n",
       "      <td>9</td>\n",
       "      <td>7875.444444</td>\n",
       "    </tr>\n",
       "    <tr>\n",
       "      <th>6</th>\n",
       "      <td>honda</td>\n",
       "      <td>13</td>\n",
       "      <td>8184.692308</td>\n",
       "    </tr>\n",
       "    <tr>\n",
       "      <th>7</th>\n",
       "      <td>isuzu</td>\n",
       "      <td>4</td>\n",
       "      <td>8916.500000</td>\n",
       "    </tr>\n",
       "    <tr>\n",
       "      <th>8</th>\n",
       "      <td>jaguar</td>\n",
       "      <td>3</td>\n",
       "      <td>34600.000000</td>\n",
       "    </tr>\n",
       "    <tr>\n",
       "      <th>9</th>\n",
       "      <td>mazda</td>\n",
       "      <td>17</td>\n",
       "      <td>10652.882353</td>\n",
       "    </tr>\n",
       "    <tr>\n",
       "      <th>10</th>\n",
       "      <td>mercury</td>\n",
       "      <td>1</td>\n",
       "      <td>16503.000000</td>\n",
       "    </tr>\n",
       "    <tr>\n",
       "      <th>11</th>\n",
       "      <td>mitsubishi</td>\n",
       "      <td>13</td>\n",
       "      <td>9239.769231</td>\n",
       "    </tr>\n",
       "    <tr>\n",
       "      <th>12</th>\n",
       "      <td>nissan</td>\n",
       "      <td>18</td>\n",
       "      <td>10415.666667</td>\n",
       "    </tr>\n",
       "    <tr>\n",
       "      <th>13</th>\n",
       "      <td>peugeot</td>\n",
       "      <td>11</td>\n",
       "      <td>15489.090909</td>\n",
       "    </tr>\n",
       "    <tr>\n",
       "      <th>14</th>\n",
       "      <td>plymouth</td>\n",
       "      <td>7</td>\n",
       "      <td>7963.428571</td>\n",
       "    </tr>\n",
       "    <tr>\n",
       "      <th>15</th>\n",
       "      <td>porsche</td>\n",
       "      <td>5</td>\n",
       "      <td>31400.500000</td>\n",
       "    </tr>\n",
       "    <tr>\n",
       "      <th>16</th>\n",
       "      <td>renault</td>\n",
       "      <td>2</td>\n",
       "      <td>9595.000000</td>\n",
       "    </tr>\n",
       "    <tr>\n",
       "      <th>17</th>\n",
       "      <td>saab</td>\n",
       "      <td>6</td>\n",
       "      <td>15223.333333</td>\n",
       "    </tr>\n",
       "    <tr>\n",
       "      <th>18</th>\n",
       "      <td>subaru</td>\n",
       "      <td>12</td>\n",
       "      <td>8541.250000</td>\n",
       "    </tr>\n",
       "    <tr>\n",
       "      <th>19</th>\n",
       "      <td>toyota</td>\n",
       "      <td>32</td>\n",
       "      <td>9885.812500</td>\n",
       "    </tr>\n",
       "    <tr>\n",
       "      <th>20</th>\n",
       "      <td>volkswagen</td>\n",
       "      <td>12</td>\n",
       "      <td>10077.500000</td>\n",
       "    </tr>\n",
       "    <tr>\n",
       "      <th>21</th>\n",
       "      <td>volvo</td>\n",
       "      <td>11</td>\n",
       "      <td>18063.181818</td>\n",
       "    </tr>\n",
       "  </tbody>\n",
       "</table>\n",
       "</div>"
      ],
      "text/plain": [
       "          brand  count     avg_price\n",
       "0   alfa-romero      3  15498.333333\n",
       "1          audi      7  17859.166714\n",
       "2           bmw      8  26118.750000\n",
       "3         buick      8  33647.000000\n",
       "4     chevrolet      3   6007.000000\n",
       "5         dodge      9   7875.444444\n",
       "6         honda     13   8184.692308\n",
       "7         isuzu      4   8916.500000\n",
       "8        jaguar      3  34600.000000\n",
       "9         mazda     17  10652.882353\n",
       "10      mercury      1  16503.000000\n",
       "11   mitsubishi     13   9239.769231\n",
       "12       nissan     18  10415.666667\n",
       "13      peugeot     11  15489.090909\n",
       "14     plymouth      7   7963.428571\n",
       "15      porsche      5  31400.500000\n",
       "16      renault      2   9595.000000\n",
       "17         saab      6  15223.333333\n",
       "18       subaru     12   8541.250000\n",
       "19       toyota     32   9885.812500\n",
       "20   volkswagen     12  10077.500000\n",
       "21        volvo     11  18063.181818"
      ]
     },
     "execution_count": 62,
     "metadata": {},
     "output_type": "execute_result"
    }
   ],
   "source": [
    "brand = df.groupby('brand').agg(count=('brand', 'size'), avg_price=('price', 'mean')).reset_index()\n",
    "brand"
   ]
  },
  {
   "cell_type": "markdown",
   "id": "c4ecb90f",
   "metadata": {},
   "source": [
    "Here is the summary of this data in a bar chart:"
   ]
  },
  {
   "cell_type": "code",
   "execution_count": 63,
   "id": "a51b720d",
   "metadata": {},
   "outputs": [
    {
     "data": {
      "image/png": "[encoded data removed]",
      "text/plain": [
       "<Figure size 640x480 with 1 Axes>"
      ]
     },
     "metadata": {},
     "output_type": "display_data"
    }
   ],
   "source": [
    "plt.barh(y=brand['brand'], width=brand['avg_price'], alpha=0.7)\n",
    "plt.xlabel(\"average car price ($)\")\n",
    "plt.title(\"average price for a given car brand\")\n",
    "plt.grid(True) \n",
    "plt.show()"
   ]
  },
  {
   "cell_type": "markdown",
   "id": "274c2cab",
   "metadata": {},
   "source": [
    "We can clearly see that some brands (Porche, Jaguar and Buick) stand out due to their luxury status. We can however see another outlier, BMW. It would be a good idea to look at their marketing strategy and their product repertoire to see what stands out in these 4 brands."
   ]
  },
  {
   "cell_type": "markdown",
   "id": "bc74c1c1",
   "metadata": {},
   "source": [
    "## Correlation analysis\n",
    "In this section I will focus on continuous numerical values and their relation to price"
   ]
  },
  {
   "cell_type": "markdown",
   "id": "58bfb729",
   "metadata": {},
   "source": [
    "### Holistic look at the engine properties\n",
    "I believe that there is a correlation between engine size and the horse power. To confirm it let's look at the pair plot of `enginesize`, `horsepower` and `price`."
   ]
  },
  {
   "cell_type": "code",
   "execution_count": 64,
   "id": "bd8ed209",
   "metadata": {},
   "outputs": [
    {
     "data": {
      "image/png": "[encoded data removed]",
      "text/plain": [
       "<Figure size 750x750 with 12 Axes>"
      ]
     },
     "metadata": {},
     "output_type": "display_data"
    }
   ],
   "source": [
    "fig = sns.pairplot(df, vars=['price', 'horsepower', 'enginesize'])\n",
    "for i, j in zip(*np.triu_indices_from(fig.axes, 1)):\n",
    "  fig.axes[i, j].set_visible(False)\n",
    "plt.show()"
   ]
  },
  {
   "cell_type": "markdown",
   "id": "82890d0c",
   "metadata": {},
   "source": [
    "I will also show here the correlation between horsepower and enginesize:"
   ]
  },
  {
   "cell_type": "code",
   "execution_count": 65,
   "id": "e398bb31",
   "metadata": {},
   "outputs": [
    {
     "name": "stdout",
     "output_type": "stream",
     "text": [
      "Correlation between horsepower and enginesize: 0.8097686545377306\n"
     ]
    },
    {
     "data": {
      "application/vnd.plotly.v1+json": {
       "config": {
        "plotlyServerURL": "https://plot.ly"
       },
       "data": [
        {
         "customdata": [
          [
           "alfa-romero giulia"
          ],
          [
           "alfa-romero stelvio"
          ],
          [
           "alfa-romero Quadrifoglio"
          ],
          [
           "audi 100 ls"
          ],
          [
           "audi 100ls"
          ],
          [
           "audi fox"
          ],
          [
           "audi 100ls"
          ],
          [
           "audi 5000"
          ],
          [
           "audi 4000"
          ],
          [
           "audi 5000s (diesel)"
          ],
          [
           "bmw 320i"
          ],
          [
           "bmw 320i"
          ],
          [
           "bmw x1"
          ],
          [
           "bmw x3"
          ],
          [
           "bmw z4"
          ],
          [
           "bmw x4"
          ],
          [
           "bmw x5"
          ],
          [
           "bmw x3"
          ],
          [
           "chevrolet impala"
          ],
          [
           "chevrolet monte carlo"
          ],
          [
           "chevrolet vega 2300"
          ],
          [
           "dodge rampage"
          ],
          [
           "dodge challenger se"
          ],
          [
           "dodge d200"
          ],
          [
           "dodge monaco (sw)"
          ],
          [
           "dodge colt hardtop"
          ],
          [
           "dodge colt (sw)"
          ],
          [
           "dodge coronet custom"
          ],
          [
           "dodge dart custom"
          ],
          [
           "dodge coronet custom (sw)"
          ],
          [
           "honda civic"
          ],
          [
           "honda civic cvcc"
          ],
          [
           "honda civic"
          ],
          [
           "honda accord cvcc"
          ],
          [
           "honda civic cvcc"
          ],
          [
           "honda accord lx"
          ],
          [
           "honda civic 1500 gl"
          ],
          [
           "honda accord"
          ],
          [
           "honda civic 1300"
          ],
          [
           "honda prelude"
          ],
          [
           "honda accord"
          ],
          [
           "honda civic"
          ],
          [
           "honda civic (auto)"
          ],
          [
           "isuzu MU-X"
          ],
          [
           "isuzu D-Max "
          ],
          [
           "isuzu D-Max V-Cross"
          ],
          [
           "isuzu D-Max "
          ],
          [
           "jaguar xj"
          ],
          [
           "jaguar xf"
          ],
          [
           "jaguar xk"
          ],
          [
           "maxda rx3"
          ],
          [
           "maxda glc deluxe"
          ],
          [
           "mazda rx2 coupe"
          ],
          [
           "mazda rx-4"
          ],
          [
           "mazda glc deluxe"
          ],
          [
           "mazda 626"
          ],
          [
           "mazda glc"
          ],
          [
           "mazda rx-7 gs"
          ],
          [
           "mazda glc 4"
          ],
          [
           "mazda 626"
          ],
          [
           "mazda glc custom l"
          ],
          [
           "mazda glc custom"
          ],
          [
           "mazda rx-4"
          ],
          [
           "mazda glc deluxe"
          ],
          [
           "mazda 626"
          ],
          [
           "mazda glc"
          ],
          [
           "mazda rx-7 gs"
          ],
          [
           "buick electra 225 custom"
          ],
          [
           "buick century luxus (sw)"
          ],
          [
           "buick century"
          ],
          [
           "buick skyhawk"
          ],
          [
           "buick opel isuzu deluxe"
          ],
          [
           "buick skylark"
          ],
          [
           "buick century special"
          ],
          [
           "buick regal sport coupe (turbo)"
          ],
          [
           "mercury cougar"
          ],
          [
           "mitsubishi mirage"
          ],
          [
           "mitsubishi lancer"
          ],
          [
           "mitsubishi outlander"
          ],
          [
           "mitsubishi g4"
          ],
          [
           "mitsubishi mirage g4"
          ],
          [
           "mitsubishi g4"
          ],
          [
           "mitsubishi outlander"
          ],
          [
           "mitsubishi g4"
          ],
          [
           "mitsubishi mirage g4"
          ],
          [
           "mitsubishi montero"
          ],
          [
           "mitsubishi pajero"
          ],
          [
           "mitsubishi outlander"
          ],
          [
           "mitsubishi mirage g4"
          ],
          [
           "Nissan versa"
          ],
          [
           "nissan gt-r"
          ],
          [
           "nissan rogue"
          ],
          [
           "nissan latio"
          ],
          [
           "nissan titan"
          ],
          [
           "nissan leaf"
          ],
          [
           "nissan juke"
          ],
          [
           "nissan latio"
          ],
          [
           "nissan note"
          ],
          [
           "nissan clipper"
          ],
          [
           "nissan rogue"
          ],
          [
           "nissan nv200"
          ],
          [
           "nissan dayz"
          ],
          [
           "nissan fuga"
          ],
          [
           "nissan otti"
          ],
          [
           "nissan teana"
          ],
          [
           "nissan kicks"
          ],
          [
           "nissan clipper"
          ],
          [
           "peugeot 504"
          ],
          [
           "peugeot 304"
          ],
          [
           "peugeot 504 (sw)"
          ],
          [
           "peugeot 504"
          ],
          [
           "peugeot 504"
          ],
          [
           "peugeot 604sl"
          ],
          [
           "peugeot 504"
          ],
          [
           "peugeot 505s turbo diesel"
          ],
          [
           "peugeot 504"
          ],
          [
           "peugeot 504"
          ],
          [
           "peugeot 604sl"
          ],
          [
           "plymouth fury iii"
          ],
          [
           "plymouth cricket"
          ],
          [
           "plymouth fury iii"
          ],
          [
           "plymouth satellite custom (sw)"
          ],
          [
           "plymouth fury gran sedan"
          ],
          [
           "plymouth valiant"
          ],
          [
           "plymouth duster"
          ],
          [
           "porsche macan"
          ],
          [
           "porcshce panamera"
          ],
          [
           "porsche cayenne"
          ],
          [
           "porsche boxter"
          ],
          [
           "porsche cayenne"
          ],
          [
           "renault 12tl"
          ],
          [
           "renault 5 gtl"
          ],
          [
           "saab 99e"
          ],
          [
           "saab 99le"
          ],
          [
           "saab 99le"
          ],
          [
           "saab 99gle"
          ],
          [
           "saab 99gle"
          ],
          [
           "saab 99e"
          ],
          [
           "subaru"
          ],
          [
           "subaru dl"
          ],
          [
           "subaru dl"
          ],
          [
           "subaru"
          ],
          [
           "subaru brz"
          ],
          [
           "subaru baja"
          ],
          [
           "subaru r1"
          ],
          [
           "subaru r2"
          ],
          [
           "subaru trezia"
          ],
          [
           "subaru tribeca"
          ],
          [
           "subaru dl"
          ],
          [
           "subaru dl"
          ],
          [
           "toyota corona mark ii"
          ],
          [
           "toyota corona"
          ],
          [
           "toyota corolla 1200"
          ],
          [
           "toyota corona hardtop"
          ],
          [
           "toyota corolla 1600 (sw)"
          ],
          [
           "toyota carina"
          ],
          [
           "toyota mark ii"
          ],
          [
           "toyota corolla 1200"
          ],
          [
           "toyota corona"
          ],
          [
           "toyota corolla"
          ],
          [
           "toyota corona"
          ],
          [
           "toyota corolla"
          ],
          [
           "toyota mark ii"
          ],
          [
           "toyota corolla liftback"
          ],
          [
           "toyota corona"
          ],
          [
           "toyota celica gt liftback"
          ],
          [
           "toyota corolla tercel"
          ],
          [
           "toyota corona liftback"
          ],
          [
           "toyota corolla"
          ],
          [
           "toyota starlet"
          ],
          [
           "toyota tercel"
          ],
          [
           "toyota corolla"
          ],
          [
           "toyota cressida"
          ],
          [
           "toyota corolla"
          ],
          [
           "toyota celica gt"
          ],
          [
           "toyota corona"
          ],
          [
           "toyota corolla"
          ],
          [
           "toyota mark ii"
          ],
          [
           "toyota corolla liftback"
          ],
          [
           "toyota corona"
          ],
          [
           "toyota starlet"
          ],
          [
           "toyouta tercel"
          ],
          [
           "vokswagen rabbit"
          ],
          [
           "volkswagen 1131 deluxe sedan"
          ],
          [
           "volkswagen model 111"
          ],
          [
           "volkswagen type 3"
          ],
          [
           "volkswagen 411 (sw)"
          ],
          [
           "volkswagen super beetle"
          ],
          [
           "volkswagen dasher"
          ],
          [
           "vw dasher"
          ],
          [
           "vw rabbit"
          ],
          [
           "volkswagen rabbit"
          ],
          [
           "volkswagen rabbit custom"
          ],
          [
           "volkswagen dasher"
          ],
          [
           "volvo 145e (sw)"
          ],
          [
           "volvo 144ea"
          ],
          [
           "volvo 244dl"
          ],
          [
           "volvo 245"
          ],
          [
           "volvo 264gl"
          ],
          [
           "volvo diesel"
          ],
          [
           "volvo 145e (sw)"
          ],
          [
           "volvo 144ea"
          ],
          [
           "volvo 244dl"
          ],
          [
           "volvo 246"
          ],
          [
           "volvo 264gl"
          ]
         ],
         "hovertemplate": "enginesize=%{x}<br>horsepower=%{y}<br>CarName=%{customdata[0]}<extra></extra>",
         "legendgroup": "",
         "marker": {
          "color": "#636efa",
          "symbol": "circle"
         },
         "mode": "markers",
         "name": "",
         "orientation": "v",
         "showlegend": false,
         "type": "scatter",
         "x": [
          130,
          130,
          152,
          109,
          136,
          136,
          136,
          136,
          131,
          131,
          108,
          108,
          164,
          164,
          164,
          209,
          209,
          209,
          61,
          90,
          90,
          90,
          90,
          98,
          90,
          90,
          90,
          98,
          122,
          156,
          92,
          92,
          79,
          92,
          92,
          92,
          92,
          110,
          110,
          110,
          110,
          110,
          110,
          111,
          90,
          90,
          119,
          258,
          258,
          326,
          91,
          91,
          91,
          91,
          91,
          70,
          70,
          70,
          80,
          122,
          122,
          122,
          122,
          122,
          122,
          140,
          134,
          183,
          183,
          183,
          183,
          234,
          234,
          308,
          304,
          140,
          92,
          92,
          92,
          98,
          110,
          122,
          156,
          156,
          156,
          122,
          122,
          110,
          110,
          97,
          103,
          97,
          97,
          97,
          97,
          97,
          97,
          97,
          97,
          120,
          120,
          181,
          181,
          181,
          181,
          181,
          181,
          120,
          152,
          120,
          152,
          120,
          152,
          120,
          152,
          120,
          152,
          134,
          90,
          98,
          90,
          90,
          98,
          122,
          156,
          151,
          194,
          194,
          194,
          203,
          132,
          132,
          121,
          121,
          121,
          121,
          121,
          121,
          97,
          108,
          108,
          108,
          108,
          108,
          108,
          108,
          108,
          108,
          108,
          108,
          92,
          92,
          92,
          92,
          92,
          92,
          98,
          98,
          110,
          110,
          98,
          98,
          98,
          98,
          98,
          98,
          98,
          146,
          146,
          146,
          146,
          146,
          146,
          122,
          110,
          122,
          122,
          122,
          171,
          171,
          171,
          161,
          97,
          109,
          97,
          109,
          109,
          97,
          109,
          109,
          109,
          136,
          97,
          109,
          141,
          141,
          141,
          141,
          130,
          130,
          141,
          141,
          173,
          145,
          141
         ],
         "xaxis": "x",
         "y": [
          111,
          111,
          154,
          102,
          115,
          110,
          110,
          110,
          140,
          160,
          101,
          101,
          121,
          121,
          121,
          182,
          182,
          182,
          48,
          70,
          70,
          68,
          68,
          102,
          68,
          68,
          68,
          102,
          88,
          145,
          58,
          76,
          60,
          76,
          76,
          76,
          76,
          86,
          86,
          86,
          86,
          101,
          100,
          78,
          70,
          70,
          90,
          176,
          176,
          262,
          68,
          68,
          68,
          68,
          68,
          101,
          101,
          101,
          135,
          84,
          84,
          84,
          84,
          64,
          84,
          120,
          72,
          123,
          123,
          123,
          123,
          155,
          155,
          184,
          184,
          175,
          68,
          68,
          68,
          102,
          116,
          88,
          145,
          145,
          145,
          88,
          88,
          116,
          116,
          69,
          55,
          69,
          69,
          69,
          69,
          69,
          69,
          69,
          69,
          97,
          97,
          152,
          152,
          152,
          160,
          200,
          160,
          97,
          95,
          97,
          95,
          95,
          95,
          95,
          95,
          97,
          95,
          142,
          68,
          102,
          68,
          68,
          68,
          88,
          145,
          143,
          207,
          207,
          207,
          288,
          90,
          90,
          110,
          110,
          110,
          110,
          160,
          160,
          69,
          73,
          73,
          82,
          82,
          94,
          82,
          111,
          82,
          94,
          82,
          111,
          62,
          62,
          62,
          62,
          62,
          62,
          70,
          70,
          56,
          56,
          70,
          70,
          70,
          70,
          70,
          112,
          112,
          116,
          116,
          116,
          116,
          116,
          116,
          92,
          73,
          92,
          92,
          92,
          161,
          161,
          156,
          156,
          52,
          85,
          52,
          85,
          85,
          68,
          100,
          90,
          90,
          110,
          68,
          88,
          114,
          114,
          114,
          114,
          162,
          162,
          114,
          160,
          134,
          106,
          114
         ],
         "yaxis": "y"
        },
        {
         "hovertemplate": "<b>OLS trendline</b><br>horsepower = 0.768961 * enginesize + 6.53024<br>R<sup>2</sup>=0.655725<br><br>enginesize=%{x}<br>horsepower=%{y} <b>(trend)</b><extra></extra>",
         "legendgroup": "",
         "marker": {
          "color": "#636efa",
          "symbol": "circle"
         },
         "mode": "lines",
         "name": "",
         "showlegend": false,
         "type": "scatter",
         "x": [
          61,
          70,
          70,
          70,
          79,
          80,
          90,
          90,
          90,
          90,
          90,
          90,
          90,
          90,
          90,
          90,
          90,
          90,
          91,
          91,
          91,
          91,
          91,
          92,
          92,
          92,
          92,
          92,
          92,
          92,
          92,
          92,
          92,
          92,
          92,
          92,
          92,
          92,
          97,
          97,
          97,
          97,
          97,
          97,
          97,
          97,
          97,
          97,
          97,
          97,
          97,
          97,
          98,
          98,
          98,
          98,
          98,
          98,
          98,
          98,
          98,
          98,
          98,
          98,
          98,
          98,
          103,
          108,
          108,
          108,
          108,
          108,
          108,
          108,
          108,
          108,
          108,
          108,
          108,
          108,
          109,
          109,
          109,
          109,
          109,
          109,
          109,
          109,
          110,
          110,
          110,
          110,
          110,
          110,
          110,
          110,
          110,
          110,
          110,
          110,
          111,
          119,
          120,
          120,
          120,
          120,
          120,
          120,
          120,
          121,
          121,
          121,
          121,
          121,
          121,
          122,
          122,
          122,
          122,
          122,
          122,
          122,
          122,
          122,
          122,
          122,
          122,
          122,
          122,
          122,
          130,
          130,
          130,
          130,
          131,
          131,
          132,
          132,
          134,
          134,
          136,
          136,
          136,
          136,
          136,
          140,
          140,
          141,
          141,
          141,
          141,
          141,
          141,
          141,
          145,
          146,
          146,
          146,
          146,
          146,
          146,
          151,
          152,
          152,
          152,
          152,
          152,
          152,
          156,
          156,
          156,
          156,
          156,
          161,
          164,
          164,
          164,
          171,
          171,
          171,
          173,
          181,
          181,
          181,
          181,
          181,
          181,
          183,
          183,
          183,
          183,
          194,
          194,
          194,
          203,
          209,
          209,
          209,
          234,
          234,
          258,
          258,
          304,
          308,
          326
         ],
         "xaxis": "x",
         "y": [
          53.43688576455559,
          60.357538992621244,
          60.357538992621244,
          60.357538992621244,
          67.2781922206869,
          68.04715369047197,
          75.7367683883227,
          75.7367683883227,
          75.7367683883227,
          75.7367683883227,
          75.7367683883227,
          75.7367683883227,
          75.7367683883227,
          75.7367683883227,
          75.7367683883227,
          75.7367683883227,
          75.7367683883227,
          75.7367683883227,
          76.50572985810777,
          76.50572985810777,
          76.50572985810777,
          76.50572985810777,
          76.50572985810777,
          77.27469132789284,
          77.27469132789284,
          77.27469132789284,
          77.27469132789284,
          77.27469132789284,
          77.27469132789284,
          77.27469132789284,
          77.27469132789284,
          77.27469132789284,
          77.27469132789284,
          77.27469132789284,
          77.27469132789284,
          77.27469132789284,
          77.27469132789284,
          77.27469132789284,
          81.11949867681821,
          81.11949867681821,
          81.11949867681821,
          81.11949867681821,
          81.11949867681821,
          81.11949867681821,
          81.11949867681821,
          81.11949867681821,
          81.11949867681821,
          81.11949867681821,
          81.11949867681821,
          81.11949867681821,
          81.11949867681821,
          81.11949867681821,
          81.88846014660328,
          81.88846014660328,
          81.88846014660328,
          81.88846014660328,
          81.88846014660328,
          81.88846014660328,
          81.88846014660328,
          81.88846014660328,
          81.88846014660328,
          81.88846014660328,
          81.88846014660328,
          81.88846014660328,
          81.88846014660328,
          81.88846014660328,
          85.73326749552864,
          89.57807484445401,
          89.57807484445401,
          89.57807484445401,
          89.57807484445401,
          89.57807484445401,
          89.57807484445401,
          89.57807484445401,
          89.57807484445401,
          89.57807484445401,
          89.57807484445401,
          89.57807484445401,
          89.57807484445401,
          89.57807484445401,
          90.34703631423908,
          90.34703631423908,
          90.34703631423908,
          90.34703631423908,
          90.34703631423908,
          90.34703631423908,
          90.34703631423908,
          90.34703631423908,
          91.11599778402415,
          91.11599778402415,
          91.11599778402415,
          91.11599778402415,
          91.11599778402415,
          91.11599778402415,
          91.11599778402415,
          91.11599778402415,
          91.11599778402415,
          91.11599778402415,
          91.11599778402415,
          91.11599778402415,
          91.88495925380921,
          98.0366510120898,
          98.80561248187487,
          98.80561248187487,
          98.80561248187487,
          98.80561248187487,
          98.80561248187487,
          98.80561248187487,
          98.80561248187487,
          99.57457395165994,
          99.57457395165994,
          99.57457395165994,
          99.57457395165994,
          99.57457395165994,
          99.57457395165994,
          100.34353542144501,
          100.34353542144501,
          100.34353542144501,
          100.34353542144501,
          100.34353542144501,
          100.34353542144501,
          100.34353542144501,
          100.34353542144501,
          100.34353542144501,
          100.34353542144501,
          100.34353542144501,
          100.34353542144501,
          100.34353542144501,
          100.34353542144501,
          100.34353542144501,
          106.4952271797256,
          106.4952271797256,
          106.4952271797256,
          106.4952271797256,
          107.26418864951067,
          107.26418864951067,
          108.03315011929574,
          108.03315011929574,
          109.57107305886589,
          109.57107305886589,
          111.10899599843603,
          111.10899599843603,
          111.10899599843603,
          111.10899599843603,
          111.10899599843603,
          114.18484187757632,
          114.18484187757632,
          114.95380334736139,
          114.95380334736139,
          114.95380334736139,
          114.95380334736139,
          114.95380334736139,
          114.95380334736139,
          114.95380334736139,
          118.02964922650169,
          118.79861069628676,
          118.79861069628676,
          118.79861069628676,
          118.79861069628676,
          118.79861069628676,
          118.79861069628676,
          122.64341804521212,
          123.41237951499718,
          123.41237951499718,
          123.41237951499718,
          123.41237951499718,
          123.41237951499718,
          123.41237951499718,
          126.48822539413747,
          126.48822539413747,
          126.48822539413747,
          126.48822539413747,
          126.48822539413747,
          130.33303274306283,
          132.63991715241806,
          132.63991715241806,
          132.63991715241806,
          138.02264744091357,
          138.02264744091357,
          138.02264744091357,
          139.5605703804837,
          145.7122621387643,
          145.7122621387643,
          145.7122621387643,
          145.7122621387643,
          145.7122621387643,
          145.7122621387643,
          147.25018507833443,
          147.25018507833443,
          147.25018507833443,
          147.25018507833443,
          155.70876124597024,
          155.70876124597024,
          155.70876124597024,
          162.62941447403588,
          167.24318329274632,
          167.24318329274632,
          167.24318329274632,
          186.46722003737312,
          186.46722003737312,
          204.92229531221486,
          204.92229531221486,
          240.29452292232818,
          243.3703688014685,
          257.2116752575998
         ],
         "yaxis": "y"
        }
       ],
       "layout": {
        "legend": {
         "tracegroupgap": 0
        },
        "template": {
         "data": {
          "bar": [
           {
            "error_x": {
             "color": "#2a3f5f"
            },
            "error_y": {
             "color": "#2a3f5f"
            },
            "marker": {
             "line": {
              "color": "#E5ECF6",
              "width": 0.5
             },
             "pattern": {
              "fillmode": "overlay",
              "size": 10,
              "solidity": 0.2
             }
            },
            "type": "bar"
           }
          ],
          "barpolar": [
           {
            "marker": {
             "line": {
              "color": "#E5ECF6",
              "width": 0.5
             },
             "pattern": {
              "fillmode": "overlay",
              "size": 10,
              "solidity": 0.2
             }
            },
            "type": "barpolar"
           }
          ],
          "carpet": [
           {
            "aaxis": {
             "endlinecolor": "#2a3f5f",
             "gridcolor": "white",
             "linecolor": "white",
             "minorgridcolor": "white",
             "startlinecolor": "#2a3f5f"
            },
            "baxis": {
             "endlinecolor": "#2a3f5f",
             "gridcolor": "white",
             "linecolor": "white",
             "minorgridcolor": "white",
             "startlinecolor": "#2a3f5f"
            },
            "type": "carpet"
           }
          ],
          "choropleth": [
           {
            "colorbar": {
             "outlinewidth": 0,
             "ticks": ""
            },
            "type": "choropleth"
           }
          ],
          "contour": [
           {
            "colorbar": {
             "outlinewidth": 0,
             "ticks": ""
            },
            "colorscale": [
             [
              0,
              "#0d0887"
             ],
             [
              0.1111111111111111,
              "#46039f"
             ],
             [
              0.2222222222222222,
              "#7201a8"
             ],
             [
              0.3333333333333333,
              "#9c179e"
             ],
             [
              0.4444444444444444,
              "#bd3786"
             ],
             [
              0.5555555555555556,
              "#d8576b"
             ],
             [
              0.6666666666666666,
              "#ed7953"
             ],
             [
              0.7777777777777778,
              "#fb9f3a"
             ],
             [
              0.8888888888888888,
              "#fdca26"
             ],
             [
              1,
              "#f0f921"
             ]
            ],
            "type": "contour"
           }
          ],
          "contourcarpet": [
           {
            "colorbar": {
             "outlinewidth": 0,
             "ticks": ""
            },
            "type": "contourcarpet"
           }
          ],
          "heatmap": [
           {
            "colorbar": {
             "outlinewidth": 0,
             "ticks": ""
            },
            "colorscale": [
             [
              0,
              "#0d0887"
             ],
             [
              0.1111111111111111,
              "#46039f"
             ],
             [
              0.2222222222222222,
              "#7201a8"
             ],
             [
              0.3333333333333333,
              "#9c179e"
             ],
             [
              0.4444444444444444,
              "#bd3786"
             ],
             [
              0.5555555555555556,
              "#d8576b"
             ],
             [
              0.6666666666666666,
              "#ed7953"
             ],
             [
              0.7777777777777778,
              "#fb9f3a"
             ],
             [
              0.8888888888888888,
              "#fdca26"
             ],
             [
              1,
              "#f0f921"
             ]
            ],
            "type": "heatmap"
           }
          ],
          "heatmapgl": [
           {
            "colorbar": {
             "outlinewidth": 0,
             "ticks": ""
            },
            "colorscale": [
             [
              0,
              "#0d0887"
             ],
             [
              0.1111111111111111,
              "#46039f"
             ],
             [
              0.2222222222222222,
              "#7201a8"
             ],
             [
              0.3333333333333333,
              "#9c179e"
             ],
             [
              0.4444444444444444,
              "#bd3786"
             ],
             [
              0.5555555555555556,
              "#d8576b"
             ],
             [
              0.6666666666666666,
              "#ed7953"
             ],
             [
              0.7777777777777778,
              "#fb9f3a"
             ],
             [
              0.8888888888888888,
              "#fdca26"
             ],
             [
              1,
              "#f0f921"
             ]
            ],
            "type": "heatmapgl"
           }
          ],
          "histogram": [
           {
            "marker": {
             "pattern": {
              "fillmode": "overlay",
              "size": 10,
              "solidity": 0.2
             }
            },
            "type": "histogram"
           }
          ],
          "histogram2d": [
           {
            "colorbar": {
             "outlinewidth": 0,
             "ticks": ""
            },
            "colorscale": [
             [
              0,
              "#0d0887"
             ],
             [
              0.1111111111111111,
              "#46039f"
             ],
             [
              0.2222222222222222,
              "#7201a8"
             ],
             [
              0.3333333333333333,
              "#9c179e"
             ],
             [
              0.4444444444444444,
              "#bd3786"
             ],
             [
              0.5555555555555556,
              "#d8576b"
             ],
             [
              0.6666666666666666,
              "#ed7953"
             ],
             [
              0.7777777777777778,
              "#fb9f3a"
             ],
             [
              0.8888888888888888,
              "#fdca26"
             ],
             [
              1,
              "#f0f921"
             ]
            ],
            "type": "histogram2d"
           }
          ],
          "histogram2dcontour": [
           {
            "colorbar": {
             "outlinewidth": 0,
             "ticks": ""
            },
            "colorscale": [
             [
              0,
              "#0d0887"
             ],
             [
              0.1111111111111111,
              "#46039f"
             ],
             [
              0.2222222222222222,
              "#7201a8"
             ],
             [
              0.3333333333333333,
              "#9c179e"
             ],
             [
              0.4444444444444444,
              "#bd3786"
             ],
             [
              0.5555555555555556,
              "#d8576b"
             ],
             [
              0.6666666666666666,
              "#ed7953"
             ],
             [
              0.7777777777777778,
              "#fb9f3a"
             ],
             [
              0.8888888888888888,
              "#fdca26"
             ],
             [
              1,
              "#f0f921"
             ]
            ],
            "type": "histogram2dcontour"
           }
          ],
          "mesh3d": [
           {
            "colorbar": {
             "outlinewidth": 0,
             "ticks": ""
            },
            "type": "mesh3d"
           }
          ],
          "parcoords": [
           {
            "line": {
             "colorbar": {
              "outlinewidth": 0,
              "ticks": ""
             }
            },
            "type": "parcoords"
           }
          ],
          "pie": [
           {
            "automargin": true,
            "type": "pie"
           }
          ],
          "scatter": [
           {
            "fillpattern": {
             "fillmode": "overlay",
             "size": 10,
             "solidity": 0.2
            },
            "type": "scatter"
           }
          ],
          "scatter3d": [
           {
            "line": {
             "colorbar": {
              "outlinewidth": 0,
              "ticks": ""
             }
            },
            "marker": {
             "colorbar": {
              "outlinewidth": 0,
              "ticks": ""
             }
            },
            "type": "scatter3d"
           }
          ],
          "scattercarpet": [
           {
            "marker": {
             "colorbar": {
              "outlinewidth": 0,
              "ticks": ""
             }
            },
            "type": "scattercarpet"
           }
          ],
          "scattergeo": [
           {
            "marker": {
             "colorbar": {
              "outlinewidth": 0,
              "ticks": ""
             }
            },
            "type": "scattergeo"
           }
          ],
          "scattergl": [
           {
            "marker": {
             "colorbar": {
              "outlinewidth": 0,
              "ticks": ""
             }
            },
            "type": "scattergl"
           }
          ],
          "scattermapbox": [
           {
            "marker": {
             "colorbar": {
              "outlinewidth": 0,
              "ticks": ""
             }
            },
            "type": "scattermapbox"
           }
          ],
          "scatterpolar": [
           {
            "marker": {
             "colorbar": {
              "outlinewidth": 0,
              "ticks": ""
             }
            },
            "type": "scatterpolar"
           }
          ],
          "scatterpolargl": [
           {
            "marker": {
             "colorbar": {
              "outlinewidth": 0,
              "ticks": ""
             }
            },
            "type": "scatterpolargl"
           }
          ],
          "scatterternary": [
           {
            "marker": {
             "colorbar": {
              "outlinewidth": 0,
              "ticks": ""
             }
            },
            "type": "scatterternary"
           }
          ],
          "surface": [
           {
            "colorbar": {
             "outlinewidth": 0,
             "ticks": ""
            },
            "colorscale": [
             [
              0,
              "#0d0887"
             ],
             [
              0.1111111111111111,
              "#46039f"
             ],
             [
              0.2222222222222222,
              "#7201a8"
             ],
             [
              0.3333333333333333,
              "#9c179e"
             ],
             [
              0.4444444444444444,
              "#bd3786"
             ],
             [
              0.5555555555555556,
              "#d8576b"
             ],
             [
              0.6666666666666666,
              "#ed7953"
             ],
             [
              0.7777777777777778,
              "#fb9f3a"
             ],
             [
              0.8888888888888888,
              "#fdca26"
             ],
             [
              1,
              "#f0f921"
             ]
            ],
            "type": "surface"
           }
          ],
          "table": [
           {
            "cells": {
             "fill": {
              "color": "#EBF0F8"
             },
             "line": {
              "color": "white"
             }
            },
            "header": {
             "fill": {
              "color": "#C8D4E3"
             },
             "line": {
              "color": "white"
             }
            },
            "type": "table"
           }
          ]
         },
         "layout": {
          "annotationdefaults": {
           "arrowcolor": "#2a3f5f",
           "arrowhead": 0,
           "arrowwidth": 1
          },
          "autotypenumbers": "strict",
          "coloraxis": {
           "colorbar": {
            "outlinewidth": 0,
            "ticks": ""
           }
          },
          "colorscale": {
           "diverging": [
            [
             0,
             "#8e0152"
            ],
            [
             0.1,
             "#c51b7d"
            ],
            [
             0.2,
             "#de77ae"
            ],
            [
             0.3,
             "#f1b6da"
            ],
            [
             0.4,
             "#fde0ef"
            ],
            [
             0.5,
             "#f7f7f7"
            ],
            [
             0.6,
             "#e6f5d0"
            ],
            [
             0.7,
             "#b8e186"
            ],
            [
             0.8,
             "#7fbc41"
            ],
            [
             0.9,
             "#4d9221"
            ],
            [
             1,
             "#276419"
            ]
           ],
           "sequential": [
            [
             0,
             "#0d0887"
            ],
            [
             0.1111111111111111,
             "#46039f"
            ],
            [
             0.2222222222222222,
             "#7201a8"
            ],
            [
             0.3333333333333333,
             "#9c179e"
            ],
            [
             0.4444444444444444,
             "#bd3786"
            ],
            [
             0.5555555555555556,
             "#d8576b"
            ],
            [
             0.6666666666666666,
             "#ed7953"
            ],
            [
             0.7777777777777778,
             "#fb9f3a"
            ],
            [
             0.8888888888888888,
             "#fdca26"
            ],
            [
             1,
             "#f0f921"
            ]
           ],
           "sequentialminus": [
            [
             0,
             "#0d0887"
            ],
            [
             0.1111111111111111,
             "#46039f"
            ],
            [
             0.2222222222222222,
             "#7201a8"
            ],
            [
             0.3333333333333333,
             "#9c179e"
            ],
            [
             0.4444444444444444,
             "#bd3786"
            ],
            [
             0.5555555555555556,
             "#d8576b"
            ],
            [
             0.6666666666666666,
             "#ed7953"
            ],
            [
             0.7777777777777778,
             "#fb9f3a"
            ],
            [
             0.8888888888888888,
             "#fdca26"
            ],
            [
             1,
             "#f0f921"
            ]
           ]
          },
          "colorway": [
           "#636efa",
           "#EF553B",
           "#00cc96",
           "#ab63fa",
           "#FFA15A",
           "#19d3f3",
           "#FF6692",
           "#B6E880",
           "#FF97FF",
           "#FECB52"
          ],
          "font": {
           "color": "#2a3f5f"
          },
          "geo": {
           "bgcolor": "white",
           "lakecolor": "white",
           "landcolor": "#E5ECF6",
           "showlakes": true,
           "showland": true,
           "subunitcolor": "white"
          },
          "hoverlabel": {
           "align": "left"
          },
          "hovermode": "closest",
          "mapbox": {
           "style": "light"
          },
          "paper_bgcolor": "white",
          "plot_bgcolor": "#E5ECF6",
          "polar": {
           "angularaxis": {
            "gridcolor": "white",
            "linecolor": "white",
            "ticks": ""
           },
           "bgcolor": "#E5ECF6",
           "radialaxis": {
            "gridcolor": "white",
            "linecolor": "white",
            "ticks": ""
           }
          },
          "scene": {
           "xaxis": {
            "backgroundcolor": "#E5ECF6",
            "gridcolor": "white",
            "gridwidth": 2,
            "linecolor": "white",
            "showbackground": true,
            "ticks": "",
            "zerolinecolor": "white"
           },
           "yaxis": {
            "backgroundcolor": "#E5ECF6",
            "gridcolor": "white",
            "gridwidth": 2,
            "linecolor": "white",
            "showbackground": true,
            "ticks": "",
            "zerolinecolor": "white"
           },
           "zaxis": {
            "backgroundcolor": "#E5ECF6",
            "gridcolor": "white",
            "gridwidth": 2,
            "linecolor": "white",
            "showbackground": true,
            "ticks": "",
            "zerolinecolor": "white"
           }
          },
          "shapedefaults": {
           "line": {
            "color": "#2a3f5f"
           }
          },
          "ternary": {
           "aaxis": {
            "gridcolor": "white",
            "linecolor": "white",
            "ticks": ""
           },
           "baxis": {
            "gridcolor": "white",
            "linecolor": "white",
            "ticks": ""
           },
           "bgcolor": "#E5ECF6",
           "caxis": {
            "gridcolor": "white",
            "linecolor": "white",
            "ticks": ""
           }
          },
          "title": {
           "x": 0.05
          },
          "xaxis": {
           "automargin": true,
           "gridcolor": "white",
           "linecolor": "white",
           "ticks": "",
           "title": {
            "standoff": 15
           },
           "zerolinecolor": "white",
           "zerolinewidth": 2
          },
          "yaxis": {
           "automargin": true,
           "gridcolor": "white",
           "linecolor": "white",
           "ticks": "",
           "title": {
            "standoff": 15
           },
           "zerolinecolor": "white",
           "zerolinewidth": 2
          }
         }
        },
        "title": {
         "text": "Engine Size vs Horsepower by Fuel Type"
        },
        "xaxis": {
         "anchor": "y",
         "domain": [
          0,
          1
         ],
         "title": {
          "text": "enginesize"
         }
        },
        "yaxis": {
         "anchor": "x",
         "domain": [
          0,
          1
         ],
         "title": {
          "text": "horsepower"
         }
        }
       }
      }
     },
     "metadata": {},
     "output_type": "display_data"
    }
   ],
   "source": [
    "correlation = df['horsepower'].corr(df['enginesize'])\n",
    "print(\"Correlation between horsepower and enginesize:\", correlation)\n",
    "px.scatter(df, x='enginesize', y='horsepower', trendline='ols', hover_data=['CarName'], title='Engine Size vs Horsepower by Fuel Type').show()"
   ]
  },
  {
   "cell_type": "markdown",
   "id": "169cb691",
   "metadata": {},
   "source": [
    "And finally the correlation between horsepower and price:"
   ]
  },
  {
   "cell_type": "code",
   "execution_count": 66,
   "id": "cdad0259",
   "metadata": {},
   "outputs": [
    {
     "name": "stdout",
     "output_type": "stream",
     "text": [
      "Correlation between horsepower and price: 0.8081388225362215\n"
     ]
    },
    {
     "data": {
      "application/vnd.plotly.v1+json": {
       "config": {
        "plotlyServerURL": "https://plot.ly"
       },
       "data": [
        {
         "customdata": [
          [
           "alfa-romero giulia"
          ],
          [
           "alfa-romero stelvio"
          ],
          [
           "alfa-romero Quadrifoglio"
          ],
          [
           "audi 100 ls"
          ],
          [
           "audi 100ls"
          ],
          [
           "audi fox"
          ],
          [
           "audi 100ls"
          ],
          [
           "audi 5000"
          ],
          [
           "audi 4000"
          ],
          [
           "audi 5000s (diesel)"
          ],
          [
           "bmw 320i"
          ],
          [
           "bmw 320i"
          ],
          [
           "bmw x1"
          ],
          [
           "bmw x3"
          ],
          [
           "bmw z4"
          ],
          [
           "bmw x4"
          ],
          [
           "bmw x5"
          ],
          [
           "bmw x3"
          ],
          [
           "chevrolet impala"
          ],
          [
           "chevrolet monte carlo"
          ],
          [
           "chevrolet vega 2300"
          ],
          [
           "dodge rampage"
          ],
          [
           "dodge challenger se"
          ],
          [
           "dodge d200"
          ],
          [
           "dodge monaco (sw)"
          ],
          [
           "dodge colt hardtop"
          ],
          [
           "dodge colt (sw)"
          ],
          [
           "dodge coronet custom"
          ],
          [
           "dodge dart custom"
          ],
          [
           "dodge coronet custom (sw)"
          ],
          [
           "honda civic"
          ],
          [
           "honda civic cvcc"
          ],
          [
           "honda civic"
          ],
          [
           "honda accord cvcc"
          ],
          [
           "honda civic cvcc"
          ],
          [
           "honda accord lx"
          ],
          [
           "honda civic 1500 gl"
          ],
          [
           "honda accord"
          ],
          [
           "honda civic 1300"
          ],
          [
           "honda prelude"
          ],
          [
           "honda accord"
          ],
          [
           "honda civic"
          ],
          [
           "honda civic (auto)"
          ],
          [
           "isuzu MU-X"
          ],
          [
           "isuzu D-Max "
          ],
          [
           "isuzu D-Max V-Cross"
          ],
          [
           "isuzu D-Max "
          ],
          [
           "jaguar xj"
          ],
          [
           "jaguar xf"
          ],
          [
           "jaguar xk"
          ],
          [
           "maxda rx3"
          ],
          [
           "maxda glc deluxe"
          ],
          [
           "mazda rx2 coupe"
          ],
          [
           "mazda rx-4"
          ],
          [
           "mazda glc deluxe"
          ],
          [
           "mazda 626"
          ],
          [
           "mazda glc"
          ],
          [
           "mazda rx-7 gs"
          ],
          [
           "mazda glc 4"
          ],
          [
           "mazda 626"
          ],
          [
           "mazda glc custom l"
          ],
          [
           "mazda glc custom"
          ],
          [
           "mazda rx-4"
          ],
          [
           "mazda glc deluxe"
          ],
          [
           "mazda 626"
          ],
          [
           "mazda glc"
          ],
          [
           "mazda rx-7 gs"
          ],
          [
           "buick electra 225 custom"
          ],
          [
           "buick century luxus (sw)"
          ],
          [
           "buick century"
          ],
          [
           "buick skyhawk"
          ],
          [
           "buick opel isuzu deluxe"
          ],
          [
           "buick skylark"
          ],
          [
           "buick century special"
          ],
          [
           "buick regal sport coupe (turbo)"
          ],
          [
           "mercury cougar"
          ],
          [
           "mitsubishi mirage"
          ],
          [
           "mitsubishi lancer"
          ],
          [
           "mitsubishi outlander"
          ],
          [
           "mitsubishi g4"
          ],
          [
           "mitsubishi mirage g4"
          ],
          [
           "mitsubishi g4"
          ],
          [
           "mitsubishi outlander"
          ],
          [
           "mitsubishi g4"
          ],
          [
           "mitsubishi mirage g4"
          ],
          [
           "mitsubishi montero"
          ],
          [
           "mitsubishi pajero"
          ],
          [
           "mitsubishi outlander"
          ],
          [
           "mitsubishi mirage g4"
          ],
          [
           "Nissan versa"
          ],
          [
           "nissan gt-r"
          ],
          [
           "nissan rogue"
          ],
          [
           "nissan latio"
          ],
          [
           "nissan titan"
          ],
          [
           "nissan leaf"
          ],
          [
           "nissan juke"
          ],
          [
           "nissan latio"
          ],
          [
           "nissan note"
          ],
          [
           "nissan clipper"
          ],
          [
           "nissan rogue"
          ],
          [
           "nissan nv200"
          ],
          [
           "nissan dayz"
          ],
          [
           "nissan fuga"
          ],
          [
           "nissan otti"
          ],
          [
           "nissan teana"
          ],
          [
           "nissan kicks"
          ],
          [
           "nissan clipper"
          ],
          [
           "peugeot 504"
          ],
          [
           "peugeot 304"
          ],
          [
           "peugeot 504 (sw)"
          ],
          [
           "peugeot 504"
          ],
          [
           "peugeot 504"
          ],
          [
           "peugeot 604sl"
          ],
          [
           "peugeot 504"
          ],
          [
           "peugeot 505s turbo diesel"
          ],
          [
           "peugeot 504"
          ],
          [
           "peugeot 504"
          ],
          [
           "peugeot 604sl"
          ],
          [
           "plymouth fury iii"
          ],
          [
           "plymouth cricket"
          ],
          [
           "plymouth fury iii"
          ],
          [
           "plymouth satellite custom (sw)"
          ],
          [
           "plymouth fury gran sedan"
          ],
          [
           "plymouth valiant"
          ],
          [
           "plymouth duster"
          ],
          [
           "porsche macan"
          ],
          [
           "porcshce panamera"
          ],
          [
           "porsche cayenne"
          ],
          [
           "porsche boxter"
          ],
          [
           "porsche cayenne"
          ],
          [
           "renault 12tl"
          ],
          [
           "renault 5 gtl"
          ],
          [
           "saab 99e"
          ],
          [
           "saab 99le"
          ],
          [
           "saab 99le"
          ],
          [
           "saab 99gle"
          ],
          [
           "saab 99gle"
          ],
          [
           "saab 99e"
          ],
          [
           "subaru"
          ],
          [
           "subaru dl"
          ],
          [
           "subaru dl"
          ],
          [
           "subaru"
          ],
          [
           "subaru brz"
          ],
          [
           "subaru baja"
          ],
          [
           "subaru r1"
          ],
          [
           "subaru r2"
          ],
          [
           "subaru trezia"
          ],
          [
           "subaru tribeca"
          ],
          [
           "subaru dl"
          ],
          [
           "subaru dl"
          ],
          [
           "toyota corona mark ii"
          ],
          [
           "toyota corona"
          ],
          [
           "toyota corolla 1200"
          ],
          [
           "toyota corona hardtop"
          ],
          [
           "toyota corolla 1600 (sw)"
          ],
          [
           "toyota carina"
          ],
          [
           "toyota mark ii"
          ],
          [
           "toyota corolla 1200"
          ],
          [
           "toyota corona"
          ],
          [
           "toyota corolla"
          ],
          [
           "toyota corona"
          ],
          [
           "toyota corolla"
          ],
          [
           "toyota mark ii"
          ],
          [
           "toyota corolla liftback"
          ],
          [
           "toyota corona"
          ],
          [
           "toyota celica gt liftback"
          ],
          [
           "toyota corolla tercel"
          ],
          [
           "toyota corona liftback"
          ],
          [
           "toyota corolla"
          ],
          [
           "toyota starlet"
          ],
          [
           "toyota tercel"
          ],
          [
           "toyota corolla"
          ],
          [
           "toyota cressida"
          ],
          [
           "toyota corolla"
          ],
          [
           "toyota celica gt"
          ],
          [
           "toyota corona"
          ],
          [
           "toyota corolla"
          ],
          [
           "toyota mark ii"
          ],
          [
           "toyota corolla liftback"
          ],
          [
           "toyota corona"
          ],
          [
           "toyota starlet"
          ],
          [
           "toyouta tercel"
          ],
          [
           "vokswagen rabbit"
          ],
          [
           "volkswagen 1131 deluxe sedan"
          ],
          [
           "volkswagen model 111"
          ],
          [
           "volkswagen type 3"
          ],
          [
           "volkswagen 411 (sw)"
          ],
          [
           "volkswagen super beetle"
          ],
          [
           "volkswagen dasher"
          ],
          [
           "vw dasher"
          ],
          [
           "vw rabbit"
          ],
          [
           "volkswagen rabbit"
          ],
          [
           "volkswagen rabbit custom"
          ],
          [
           "volkswagen dasher"
          ],
          [
           "volvo 145e (sw)"
          ],
          [
           "volvo 144ea"
          ],
          [
           "volvo 244dl"
          ],
          [
           "volvo 245"
          ],
          [
           "volvo 264gl"
          ],
          [
           "volvo diesel"
          ],
          [
           "volvo 145e (sw)"
          ],
          [
           "volvo 144ea"
          ],
          [
           "volvo 244dl"
          ],
          [
           "volvo 246"
          ],
          [
           "volvo 264gl"
          ]
         ],
         "hovertemplate": "horsepower=%{x}<br>price=%{y}<br>CarName=%{customdata[0]}<extra></extra>",
         "legendgroup": "",
         "marker": {
          "color": "#636efa",
          "symbol": "circle"
         },
         "mode": "markers",
         "name": "",
         "orientation": "v",
         "showlegend": false,
         "type": "scatter",
         "x": [
          111,
          111,
          154,
          102,
          115,
          110,
          110,
          110,
          140,
          160,
          101,
          101,
          121,
          121,
          121,
          182,
          182,
          182,
          48,
          70,
          70,
          68,
          68,
          102,
          68,
          68,
          68,
          102,
          88,
          145,
          58,
          76,
          60,
          76,
          76,
          76,
          76,
          86,
          86,
          86,
          86,
          101,
          100,
          78,
          70,
          70,
          90,
          176,
          176,
          262,
          68,
          68,
          68,
          68,
          68,
          101,
          101,
          101,
          135,
          84,
          84,
          84,
          84,
          64,
          84,
          120,
          72,
          123,
          123,
          123,
          123,
          155,
          155,
          184,
          184,
          175,
          68,
          68,
          68,
          102,
          116,
          88,
          145,
          145,
          145,
          88,
          88,
          116,
          116,
          69,
          55,
          69,
          69,
          69,
          69,
          69,
          69,
          69,
          69,
          97,
          97,
          152,
          152,
          152,
          160,
          200,
          160,
          97,
          95,
          97,
          95,
          95,
          95,
          95,
          95,
          97,
          95,
          142,
          68,
          102,
          68,
          68,
          68,
          88,
          145,
          143,
          207,
          207,
          207,
          288,
          90,
          90,
          110,
          110,
          110,
          110,
          160,
          160,
          69,
          73,
          73,
          82,
          82,
          94,
          82,
          111,
          82,
          94,
          82,
          111,
          62,
          62,
          62,
          62,
          62,
          62,
          70,
          70,
          56,
          56,
          70,
          70,
          70,
          70,
          70,
          112,
          112,
          116,
          116,
          116,
          116,
          116,
          116,
          92,
          73,
          92,
          92,
          92,
          161,
          161,
          156,
          156,
          52,
          85,
          52,
          85,
          85,
          68,
          100,
          90,
          90,
          110,
          68,
          88,
          114,
          114,
          114,
          114,
          162,
          162,
          114,
          160,
          134,
          106,
          114
         ],
         "xaxis": "x",
         "y": [
          13495,
          16500,
          16500,
          13950,
          17450,
          15250,
          17710,
          18920,
          23875,
          17859.167,
          16430,
          16925,
          20970,
          21105,
          24565,
          30760,
          41315,
          36880,
          5151,
          6295,
          6575,
          5572,
          6377,
          7957,
          6229,
          6692,
          7609,
          8558,
          8921,
          12964,
          6479,
          6855,
          5399,
          6529,
          7129,
          7295,
          7295,
          7895,
          9095,
          8845,
          10295,
          12945,
          10345,
          6785,
          8916.5,
          8916.5,
          11048,
          32250,
          35550,
          36000,
          5195,
          6095,
          6795,
          6695,
          7395,
          10945,
          11845,
          13645,
          15645,
          8845,
          8495,
          10595,
          10245,
          10795,
          11245,
          18280,
          18344,
          25552,
          28248,
          28176,
          31600,
          34184,
          35056,
          40960,
          45400,
          16503,
          5389,
          6189,
          6669,
          7689,
          9959,
          8499,
          12629,
          14869,
          14489,
          6989,
          8189,
          9279,
          9279,
          5499,
          7099,
          6649,
          6849,
          7349,
          7299,
          7799,
          7499,
          7999,
          8249,
          8949,
          9549,
          13499,
          14399,
          13499,
          17199,
          19699,
          18399,
          11900,
          13200,
          12440,
          13860,
          15580,
          16900,
          16695,
          17075,
          16630,
          17950,
          18150,
          5572,
          7957,
          6229,
          6692,
          7609,
          8921,
          12764,
          22018,
          32528,
          34028,
          37028,
          31400.5,
          9295,
          9895,
          11850,
          12170,
          15040,
          15510,
          18150,
          18620,
          5118,
          7053,
          7603,
          7126,
          7775,
          9960,
          9233,
          11259,
          7463,
          10198,
          8013,
          11694,
          5348,
          6338,
          6488,
          6918,
          7898,
          8778,
          6938,
          7198,
          7898,
          7788,
          7738,
          8358,
          9258,
          8058,
          8238,
          9298,
          9538,
          8449,
          9639,
          9989,
          11199,
          11549,
          17669,
          8948,
          10698,
          9988,
          10898,
          11248,
          16558,
          15998,
          15690,
          15750,
          7775,
          7975,
          7995,
          8195,
          8495,
          9495,
          9995,
          11595,
          9980,
          13295,
          13845,
          12290,
          12940,
          13415,
          15985,
          16515,
          18420,
          18950,
          16845,
          19045,
          21485,
          22470,
          22625
         ],
         "yaxis": "y"
        },
        {
         "hovertemplate": "<b>OLS trendline</b><br>price = 163.263 * horsepower + -3721.76<br>R<sup>2</sup>=0.653088<br><br>horsepower=%{x}<br>price=%{y} <b>(trend)</b><extra></extra>",
         "legendgroup": "",
         "marker": {
          "color": "#636efa",
          "symbol": "circle"
         },
         "mode": "lines",
         "name": "",
         "showlegend": false,
         "type": "scatter",
         "x": [
          48,
          52,
          52,
          55,
          56,
          56,
          58,
          60,
          62,
          62,
          62,
          62,
          62,
          62,
          64,
          68,
          68,
          68,
          68,
          68,
          68,
          68,
          68,
          68,
          68,
          68,
          68,
          68,
          68,
          68,
          68,
          68,
          68,
          68,
          69,
          69,
          69,
          69,
          69,
          69,
          69,
          69,
          69,
          69,
          70,
          70,
          70,
          70,
          70,
          70,
          70,
          70,
          70,
          70,
          70,
          72,
          73,
          73,
          73,
          76,
          76,
          76,
          76,
          76,
          78,
          82,
          82,
          82,
          82,
          82,
          84,
          84,
          84,
          84,
          84,
          85,
          85,
          85,
          86,
          86,
          86,
          86,
          88,
          88,
          88,
          88,
          88,
          88,
          90,
          90,
          90,
          90,
          90,
          92,
          92,
          92,
          92,
          94,
          94,
          95,
          95,
          95,
          95,
          95,
          95,
          95,
          97,
          97,
          97,
          97,
          97,
          100,
          100,
          101,
          101,
          101,
          101,
          101,
          101,
          102,
          102,
          102,
          102,
          102,
          106,
          110,
          110,
          110,
          110,
          110,
          110,
          110,
          110,
          111,
          111,
          111,
          111,
          112,
          112,
          114,
          114,
          114,
          114,
          114,
          114,
          115,
          116,
          116,
          116,
          116,
          116,
          116,
          116,
          116,
          116,
          120,
          121,
          121,
          121,
          123,
          123,
          123,
          123,
          134,
          135,
          140,
          142,
          143,
          145,
          145,
          145,
          145,
          145,
          152,
          152,
          152,
          154,
          155,
          155,
          156,
          156,
          160,
          160,
          160,
          160,
          160,
          160,
          161,
          161,
          162,
          162,
          175,
          176,
          176,
          182,
          182,
          182,
          184,
          184,
          200,
          207,
          207,
          207,
          262,
          288
         ],
         "xaxis": "x",
         "y": [
          4114.865432220354,
          4767.917676098946,
          4767.917676098946,
          5257.70685900789,
          5420.969919977538,
          5420.969919977538,
          5747.496041916834,
          6074.02216385613,
          6400.548285795426,
          6400.548285795426,
          6400.548285795426,
          6400.548285795426,
          6400.548285795426,
          6400.548285795426,
          6727.074407734722,
          7380.126651613314,
          7380.126651613314,
          7380.126651613314,
          7380.126651613314,
          7380.126651613314,
          7380.126651613314,
          7380.126651613314,
          7380.126651613314,
          7380.126651613314,
          7380.126651613314,
          7380.126651613314,
          7380.126651613314,
          7380.126651613314,
          7380.126651613314,
          7380.126651613314,
          7380.126651613314,
          7380.126651613314,
          7380.126651613314,
          7380.126651613314,
          7543.389712582962,
          7543.389712582962,
          7543.389712582962,
          7543.389712582962,
          7543.389712582962,
          7543.389712582962,
          7543.389712582962,
          7543.389712582962,
          7543.389712582962,
          7543.389712582962,
          7706.65277355261,
          7706.65277355261,
          7706.65277355261,
          7706.65277355261,
          7706.65277355261,
          7706.65277355261,
          7706.65277355261,
          7706.65277355261,
          7706.65277355261,
          7706.65277355261,
          7706.65277355261,
          8033.178895491906,
          8196.441956461553,
          8196.441956461553,
          8196.441956461553,
          8686.231139370499,
          8686.231139370499,
          8686.231139370499,
          8686.231139370499,
          8686.231139370499,
          9012.757261309795,
          9665.809505188387,
          9665.809505188387,
          9665.809505188387,
          9665.809505188387,
          9665.809505188387,
          9992.335627127683,
          9992.335627127683,
          9992.335627127683,
          9992.335627127683,
          9992.335627127683,
          10155.598688097329,
          10155.598688097329,
          10155.598688097329,
          10318.861749066979,
          10318.861749066979,
          10318.861749066979,
          10318.861749066979,
          10645.387871006275,
          10645.387871006275,
          10645.387871006275,
          10645.387871006275,
          10645.387871006275,
          10645.387871006275,
          10971.91399294557,
          10971.91399294557,
          10971.91399294557,
          10971.91399294557,
          10971.91399294557,
          11298.440114884866,
          11298.440114884866,
          11298.440114884866,
          11298.440114884866,
          11624.966236824162,
          11624.966236824162,
          11788.229297793809,
          11788.229297793809,
          11788.229297793809,
          11788.229297793809,
          11788.229297793809,
          11788.229297793809,
          11788.229297793809,
          12114.755419733108,
          12114.755419733108,
          12114.755419733108,
          12114.755419733108,
          12114.755419733108,
          12604.54460264205,
          12604.54460264205,
          12767.807663611697,
          12767.807663611697,
          12767.807663611697,
          12767.807663611697,
          12767.807663611697,
          12767.807663611697,
          12931.070724581346,
          12931.070724581346,
          12931.070724581346,
          12931.070724581346,
          12931.070724581346,
          13584.122968459938,
          14237.17521233853,
          14237.17521233853,
          14237.17521233853,
          14237.17521233853,
          14237.17521233853,
          14237.17521233853,
          14237.17521233853,
          14237.17521233853,
          14400.438273308177,
          14400.438273308177,
          14400.438273308177,
          14400.438273308177,
          14563.701334277826,
          14563.701334277826,
          14890.227456217122,
          14890.227456217122,
          14890.227456217122,
          14890.227456217122,
          14890.227456217122,
          14890.227456217122,
          15053.490517186769,
          15216.753578156418,
          15216.753578156418,
          15216.753578156418,
          15216.753578156418,
          15216.753578156418,
          15216.753578156418,
          15216.753578156418,
          15216.753578156418,
          15216.753578156418,
          15869.80582203501,
          16033.068883004657,
          16033.068883004657,
          16033.068883004657,
          16359.595004943953,
          16359.595004943953,
          16359.595004943953,
          16359.595004943953,
          18155.488675610082,
          18318.751736579732,
          19135.06704142797,
          19461.593163367266,
          19624.856224336916,
          19951.382346276212,
          19951.382346276212,
          19951.382346276212,
          19951.382346276212,
          19951.382346276212,
          21094.223773063746,
          21094.223773063746,
          21094.223773063746,
          21420.749895003042,
          21584.012955972692,
          21584.012955972692,
          21747.276016942338,
          21747.276016942338,
          22400.32826082093,
          22400.32826082093,
          22400.32826082093,
          22400.32826082093,
          22400.32826082093,
          22400.32826082093,
          22563.59132179058,
          22563.59132179058,
          22726.854382760226,
          22726.854382760226,
          24849.274175365652,
          25012.537236335298,
          25012.537236335298,
          25992.115602153186,
          25992.115602153186,
          25992.115602153186,
          26318.641724092482,
          26318.641724092482,
          28930.850699606854,
          30073.692126394388,
          30073.692126394388,
          30073.692126394388,
          39053.16047972503,
          43298.00006493588
         ],
         "yaxis": "y"
        }
       ],
       "layout": {
        "legend": {
         "tracegroupgap": 0
        },
        "template": {
         "data": {
          "bar": [
           {
            "error_x": {
             "color": "#2a3f5f"
            },
            "error_y": {
             "color": "#2a3f5f"
            },
            "marker": {
             "line": {
              "color": "#E5ECF6",
              "width": 0.5
             },
             "pattern": {
              "fillmode": "overlay",
              "size": 10,
              "solidity": 0.2
             }
            },
            "type": "bar"
           }
          ],
          "barpolar": [
           {
            "marker": {
             "line": {
              "color": "#E5ECF6",
              "width": 0.5
             },
             "pattern": {
              "fillmode": "overlay",
              "size": 10,
              "solidity": 0.2
             }
            },
            "type": "barpolar"
           }
          ],
          "carpet": [
           {
            "aaxis": {
             "endlinecolor": "#2a3f5f",
             "gridcolor": "white",
             "linecolor": "white",
             "minorgridcolor": "white",
             "startlinecolor": "#2a3f5f"
            },
            "baxis": {
             "endlinecolor": "#2a3f5f",
             "gridcolor": "white",
             "linecolor": "white",
             "minorgridcolor": "white",
             "startlinecolor": "#2a3f5f"
            },
            "type": "carpet"
           }
          ],
          "choropleth": [
           {
            "colorbar": {
             "outlinewidth": 0,
             "ticks": ""
            },
            "type": "choropleth"
           }
          ],
          "contour": [
           {
            "colorbar": {
             "outlinewidth": 0,
             "ticks": ""
            },
            "colorscale": [
             [
              0,
              "#0d0887"
             ],
             [
              0.1111111111111111,
              "#46039f"
             ],
             [
              0.2222222222222222,
              "#7201a8"
             ],
             [
              0.3333333333333333,
              "#9c179e"
             ],
             [
              0.4444444444444444,
              "#bd3786"
             ],
             [
              0.5555555555555556,
              "#d8576b"
             ],
             [
              0.6666666666666666,
              "#ed7953"
             ],
             [
              0.7777777777777778,
              "#fb9f3a"
             ],
             [
              0.8888888888888888,
              "#fdca26"
             ],
             [
              1,
              "#f0f921"
             ]
            ],
            "type": "contour"
           }
          ],
          "contourcarpet": [
           {
            "colorbar": {
             "outlinewidth": 0,
             "ticks": ""
            },
            "type": "contourcarpet"
           }
          ],
          "heatmap": [
           {
            "colorbar": {
             "outlinewidth": 0,
             "ticks": ""
            },
            "colorscale": [
             [
              0,
              "#0d0887"
             ],
             [
              0.1111111111111111,
              "#46039f"
             ],
             [
              0.2222222222222222,
              "#7201a8"
             ],
             [
              0.3333333333333333,
              "#9c179e"
             ],
             [
              0.4444444444444444,
              "#bd3786"
             ],
             [
              0.5555555555555556,
              "#d8576b"
             ],
             [
              0.6666666666666666,
              "#ed7953"
             ],
             [
              0.7777777777777778,
              "#fb9f3a"
             ],
             [
              0.8888888888888888,
              "#fdca26"
             ],
             [
              1,
              "#f0f921"
             ]
            ],
            "type": "heatmap"
           }
          ],
          "heatmapgl": [
           {
            "colorbar": {
             "outlinewidth": 0,
             "ticks": ""
            },
            "colorscale": [
             [
              0,
              "#0d0887"
             ],
             [
              0.1111111111111111,
              "#46039f"
             ],
             [
              0.2222222222222222,
              "#7201a8"
             ],
             [
              0.3333333333333333,
              "#9c179e"
             ],
             [
              0.4444444444444444,
              "#bd3786"
             ],
             [
              0.5555555555555556,
              "#d8576b"
             ],
             [
              0.6666666666666666,
              "#ed7953"
             ],
             [
              0.7777777777777778,
              "#fb9f3a"
             ],
             [
              0.8888888888888888,
              "#fdca26"
             ],
             [
              1,
              "#f0f921"
             ]
            ],
            "type": "heatmapgl"
           }
          ],
          "histogram": [
           {
            "marker": {
             "pattern": {
              "fillmode": "overlay",
              "size": 10,
              "solidity": 0.2
             }
            },
            "type": "histogram"
           }
          ],
          "histogram2d": [
           {
            "colorbar": {
             "outlinewidth": 0,
             "ticks": ""
            },
            "colorscale": [
             [
              0,
              "#0d0887"
             ],
             [
              0.1111111111111111,
              "#46039f"
             ],
             [
              0.2222222222222222,
              "#7201a8"
             ],
             [
              0.3333333333333333,
              "#9c179e"
             ],
             [
              0.4444444444444444,
              "#bd3786"
             ],
             [
              0.5555555555555556,
              "#d8576b"
             ],
             [
              0.6666666666666666,
              "#ed7953"
             ],
             [
              0.7777777777777778,
              "#fb9f3a"
             ],
             [
              0.8888888888888888,
              "#fdca26"
             ],
             [
              1,
              "#f0f921"
             ]
            ],
            "type": "histogram2d"
           }
          ],
          "histogram2dcontour": [
           {
            "colorbar": {
             "outlinewidth": 0,
             "ticks": ""
            },
            "colorscale": [
             [
              0,
              "#0d0887"
             ],
             [
              0.1111111111111111,
              "#46039f"
             ],
             [
              0.2222222222222222,
              "#7201a8"
             ],
             [
              0.3333333333333333,
              "#9c179e"
             ],
             [
              0.4444444444444444,
              "#bd3786"
             ],
             [
              0.5555555555555556,
              "#d8576b"
             ],
             [
              0.6666666666666666,
              "#ed7953"
             ],
             [
              0.7777777777777778,
              "#fb9f3a"
             ],
             [
              0.8888888888888888,
              "#fdca26"
             ],
             [
              1,
              "#f0f921"
             ]
            ],
            "type": "histogram2dcontour"
           }
          ],
          "mesh3d": [
           {
            "colorbar": {
             "outlinewidth": 0,
             "ticks": ""
            },
            "type": "mesh3d"
           }
          ],
          "parcoords": [
           {
            "line": {
             "colorbar": {
              "outlinewidth": 0,
              "ticks": ""
             }
            },
            "type": "parcoords"
           }
          ],
          "pie": [
           {
            "automargin": true,
            "type": "pie"
           }
          ],
          "scatter": [
           {
            "fillpattern": {
             "fillmode": "overlay",
             "size": 10,
             "solidity": 0.2
            },
            "type": "scatter"
           }
          ],
          "scatter3d": [
           {
            "line": {
             "colorbar": {
              "outlinewidth": 0,
              "ticks": ""
             }
            },
            "marker": {
             "colorbar": {
              "outlinewidth": 0,
              "ticks": ""
             }
            },
            "type": "scatter3d"
           }
          ],
          "scattercarpet": [
           {
            "marker": {
             "colorbar": {
              "outlinewidth": 0,
              "ticks": ""
             }
            },
            "type": "scattercarpet"
           }
          ],
          "scattergeo": [
           {
            "marker": {
             "colorbar": {
              "outlinewidth": 0,
              "ticks": ""
             }
            },
            "type": "scattergeo"
           }
          ],
          "scattergl": [
           {
            "marker": {
             "colorbar": {
              "outlinewidth": 0,
              "ticks": ""
             }
            },
            "type": "scattergl"
           }
          ],
          "scattermapbox": [
           {
            "marker": {
             "colorbar": {
              "outlinewidth": 0,
              "ticks": ""
             }
            },
            "type": "scattermapbox"
           }
          ],
          "scatterpolar": [
           {
            "marker": {
             "colorbar": {
              "outlinewidth": 0,
              "ticks": ""
             }
            },
            "type": "scatterpolar"
           }
          ],
          "scatterpolargl": [
           {
            "marker": {
             "colorbar": {
              "outlinewidth": 0,
              "ticks": ""
             }
            },
            "type": "scatterpolargl"
           }
          ],
          "scatterternary": [
           {
            "marker": {
             "colorbar": {
              "outlinewidth": 0,
              "ticks": ""
             }
            },
            "type": "scatterternary"
           }
          ],
          "surface": [
           {
            "colorbar": {
             "outlinewidth": 0,
             "ticks": ""
            },
            "colorscale": [
             [
              0,
              "#0d0887"
             ],
             [
              0.1111111111111111,
              "#46039f"
             ],
             [
              0.2222222222222222,
              "#7201a8"
             ],
             [
              0.3333333333333333,
              "#9c179e"
             ],
             [
              0.4444444444444444,
              "#bd3786"
             ],
             [
              0.5555555555555556,
              "#d8576b"
             ],
             [
              0.6666666666666666,
              "#ed7953"
             ],
             [
              0.7777777777777778,
              "#fb9f3a"
             ],
             [
              0.8888888888888888,
              "#fdca26"
             ],
             [
              1,
              "#f0f921"
             ]
            ],
            "type": "surface"
           }
          ],
          "table": [
           {
            "cells": {
             "fill": {
              "color": "#EBF0F8"
             },
             "line": {
              "color": "white"
             }
            },
            "header": {
             "fill": {
              "color": "#C8D4E3"
             },
             "line": {
              "color": "white"
             }
            },
            "type": "table"
           }
          ]
         },
         "layout": {
          "annotationdefaults": {
           "arrowcolor": "#2a3f5f",
           "arrowhead": 0,
           "arrowwidth": 1
          },
          "autotypenumbers": "strict",
          "coloraxis": {
           "colorbar": {
            "outlinewidth": 0,
            "ticks": ""
           }
          },
          "colorscale": {
           "diverging": [
            [
             0,
             "#8e0152"
            ],
            [
             0.1,
             "#c51b7d"
            ],
            [
             0.2,
             "#de77ae"
            ],
            [
             0.3,
             "#f1b6da"
            ],
            [
             0.4,
             "#fde0ef"
            ],
            [
             0.5,
             "#f7f7f7"
            ],
            [
             0.6,
             "#e6f5d0"
            ],
            [
             0.7,
             "#b8e186"
            ],
            [
             0.8,
             "#7fbc41"
            ],
            [
             0.9,
             "#4d9221"
            ],
            [
             1,
             "#276419"
            ]
           ],
           "sequential": [
            [
             0,
             "#0d0887"
            ],
            [
             0.1111111111111111,
             "#46039f"
            ],
            [
             0.2222222222222222,
             "#7201a8"
            ],
            [
             0.3333333333333333,
             "#9c179e"
            ],
            [
             0.4444444444444444,
             "#bd3786"
            ],
            [
             0.5555555555555556,
             "#d8576b"
            ],
            [
             0.6666666666666666,
             "#ed7953"
            ],
            [
             0.7777777777777778,
             "#fb9f3a"
            ],
            [
             0.8888888888888888,
             "#fdca26"
            ],
            [
             1,
             "#f0f921"
            ]
           ],
           "sequentialminus": [
            [
             0,
             "#0d0887"
            ],
            [
             0.1111111111111111,
             "#46039f"
            ],
            [
             0.2222222222222222,
             "#7201a8"
            ],
            [
             0.3333333333333333,
             "#9c179e"
            ],
            [
             0.4444444444444444,
             "#bd3786"
            ],
            [
             0.5555555555555556,
             "#d8576b"
            ],
            [
             0.6666666666666666,
             "#ed7953"
            ],
            [
             0.7777777777777778,
             "#fb9f3a"
            ],
            [
             0.8888888888888888,
             "#fdca26"
            ],
            [
             1,
             "#f0f921"
            ]
           ]
          },
          "colorway": [
           "#636efa",
           "#EF553B",
           "#00cc96",
           "#ab63fa",
           "#FFA15A",
           "#19d3f3",
           "#FF6692",
           "#B6E880",
           "#FF97FF",
           "#FECB52"
          ],
          "font": {
           "color": "#2a3f5f"
          },
          "geo": {
           "bgcolor": "white",
           "lakecolor": "white",
           "landcolor": "#E5ECF6",
           "showlakes": true,
           "showland": true,
           "subunitcolor": "white"
          },
          "hoverlabel": {
           "align": "left"
          },
          "hovermode": "closest",
          "mapbox": {
           "style": "light"
          },
          "paper_bgcolor": "white",
          "plot_bgcolor": "#E5ECF6",
          "polar": {
           "angularaxis": {
            "gridcolor": "white",
            "linecolor": "white",
            "ticks": ""
           },
           "bgcolor": "#E5ECF6",
           "radialaxis": {
            "gridcolor": "white",
            "linecolor": "white",
            "ticks": ""
           }
          },
          "scene": {
           "xaxis": {
            "backgroundcolor": "#E5ECF6",
            "gridcolor": "white",
            "gridwidth": 2,
            "linecolor": "white",
            "showbackground": true,
            "ticks": "",
            "zerolinecolor": "white"
           },
           "yaxis": {
            "backgroundcolor": "#E5ECF6",
            "gridcolor": "white",
            "gridwidth": 2,
            "linecolor": "white",
            "showbackground": true,
            "ticks": "",
            "zerolinecolor": "white"
           },
           "zaxis": {
            "backgroundcolor": "#E5ECF6",
            "gridcolor": "white",
            "gridwidth": 2,
            "linecolor": "white",
            "showbackground": true,
            "ticks": "",
            "zerolinecolor": "white"
           }
          },
          "shapedefaults": {
           "line": {
            "color": "#2a3f5f"
           }
          },
          "ternary": {
           "aaxis": {
            "gridcolor": "white",
            "linecolor": "white",
            "ticks": ""
           },
           "baxis": {
            "gridcolor": "white",
            "linecolor": "white",
            "ticks": ""
           },
           "bgcolor": "#E5ECF6",
           "caxis": {
            "gridcolor": "white",
            "linecolor": "white",
            "ticks": ""
           }
          },
          "title": {
           "x": 0.05
          },
          "xaxis": {
           "automargin": true,
           "gridcolor": "white",
           "linecolor": "white",
           "ticks": "",
           "title": {
            "standoff": 15
           },
           "zerolinecolor": "white",
           "zerolinewidth": 2
          },
          "yaxis": {
           "automargin": true,
           "gridcolor": "white",
           "linecolor": "white",
           "ticks": "",
           "title": {
            "standoff": 15
           },
           "zerolinecolor": "white",
           "zerolinewidth": 2
          }
         }
        },
        "title": {
         "text": "Horsepower vs Price"
        },
        "xaxis": {
         "anchor": "y",
         "domain": [
          0,
          1
         ],
         "title": {
          "text": "horsepower"
         }
        },
        "yaxis": {
         "anchor": "x",
         "domain": [
          0,
          1
         ],
         "title": {
          "text": "price"
         }
        }
       }
      }
     },
     "metadata": {},
     "output_type": "display_data"
    }
   ],
   "source": [
    "correlation = df['horsepower'].corr(df['price'])\n",
    "print(\"Correlation between horsepower and price:\", correlation)\n",
    "px.scatter(df, x='horsepower', y='price', trendline='ols', hover_data=['CarName'], title='Horsepower vs Price').show()"
   ]
  },
  {
   "cell_type": "markdown",
   "id": "0588f829",
   "metadata": {},
   "source": [
    "From this we can clearly see the strong correlation between horsepower and enginesize, as well as their relation to price. The more horsepower and larger the engine size, the higher the price of the car. Therefore for further analysis I will focus on horsepower alone as it is the property that clearly measures the power of the engine."
   ]
  },
  {
   "cell_type": "markdown",
   "id": "c81a6bd4",
   "metadata": {},
   "source": [
    "### Horsepower and categorical variables\n",
    "Here I will take a look at the relationship between horsepower and different categorical variables to see how we can improve car's horsepower with technology."
   ]
  },
  {
   "cell_type": "markdown",
   "id": "30fc6a8f",
   "metadata": {},
   "source": [
    "##### Horespower, number of cylinders and fuel type"
   ]
  },
  {
   "cell_type": "code",
   "execution_count": 67,
   "id": "6802df25",
   "metadata": {},
   "outputs": [
    {
     "data": {
      "image/png": "[encoded data removed]",
      "text/plain": [
       "<Figure size 1800x600 with 2 Axes>"
      ]
     },
     "metadata": {},
     "output_type": "display_data"
    }
   ],
   "source": [
    "fig, axes = plt.subplots(nrows=1, ncols=2, figsize=(18,6))\n",
    "sns.boxplot(data=df, x='cylindernumber', y='horsepower', hue='fueltype', ax=axes[0])\n",
    "sns.swarmplot(data=df, x='cylindernumber', y='horsepower', hue='fueltype', ax=axes[1], size=2)\n",
    "plt.show()"
   ]
  },
  {
   "cell_type": "markdown",
   "id": "e8b0f032",
   "metadata": {},
   "source": [
    "From this chart we can clearly see that cars with more cylinders usually have more horsepower, however it's not a set in stone rule. We can also see that diesel cars are often on the lower side of the price spectrum, even if they cost more on average."
   ]
  },
  {
   "cell_type": "markdown",
   "id": "6e693599",
   "metadata": {},
   "source": [
    "##### Horsepower and engine type"
   ]
  },
  {
   "cell_type": "code",
   "execution_count": 68,
   "id": "a6902556",
   "metadata": {},
   "outputs": [
    {
     "data": {
      "image/png": "[encoded data removed]",
      "text/plain": [
       "<Figure size 1800x600 with 2 Axes>"
      ]
     },
     "metadata": {},
     "output_type": "display_data"
    }
   ],
   "source": [
    "fig, axes = plt.subplots(nrows=1, ncols=2, figsize=(18,6))\n",
    "sns.boxplot(data=df, x='enginetype', y='horsepower', hue='enginelocation', ax=axes[0])\n",
    "sns.swarmplot(data=df, x='enginetype', y='horsepower', hue='enginelocation', ax=axes[1], size=2)\n",
    "plt.show()"
   ]
  },
  {
   "cell_type": "markdown",
   "id": "5bd5908f",
   "metadata": {},
   "source": [
    "Here we can see that `dohc`, the newer technology, usually allows for more powerful engines. Also it is hard to say whether engine location has any effect since there are only 3 cars with rear engine."
   ]
  },
  {
   "cell_type": "markdown",
   "id": "5c99ba34",
   "metadata": {},
   "source": [
    "##### Horsepower and other categories"
   ]
  },
  {
   "cell_type": "code",
   "execution_count": 69,
   "id": "5a66f369",
   "metadata": {},
   "outputs": [
    {
     "data": {
      "image/png": "[encoded data removed]",
      "text/plain": [
       "<Figure size 1077.74x500 with 2 Axes>"
      ]
     },
     "metadata": {},
     "output_type": "display_data"
    }
   ],
   "source": [
    "# Boxplot: horsepower by aspiration, colored by drivewheel, faceted by fuelsystem\n",
    "sns.catplot(\n",
    "    data=df,\n",
    "    x='aspiration',\n",
    "    y='horsepower',\n",
    "    hue='drivewheel',\n",
    "    col='fuelsystem',\n",
    "    kind='box',\n",
    "    height=5,\n",
    "    aspect=1\n",
    ")\n",
    "plt.show()"
   ]
  },
  {
   "cell_type": "code",
   "execution_count": 70,
   "id": "15a8213e",
   "metadata": {},
   "outputs": [
    {
     "data": {
      "image/png": "[encoded data removed]",
      "text/plain": [
       "<Figure size 1077.74x500 with 2 Axes>"
      ]
     },
     "metadata": {},
     "output_type": "display_data"
    }
   ],
   "source": [
    "sns.catplot(\n",
    "    data=df,\n",
    "    x='aspiration',\n",
    "    y='horsepower',\n",
    "    hue='drivewheel',\n",
    "    col='fuelsystem',\n",
    "    kind='swarm',\n",
    "    height=5,\n",
    "    aspect=1,\n",
    "    size=3\n",
    ")\n",
    "plt.show()"
   ]
  },
  {
   "cell_type": "markdown",
   "id": "130d42e0",
   "metadata": {},
   "source": [
    "This reveals few things:\n",
    "- as expected injection (especially `mpfi`) is a far superior technology.\n",
    "- It is clear that **Rear-Wheel Drive** results in more horsepower on average than the Front-Wheel Drive, although nothing definitive can be said about the Four-Wheel Drive because of the scarcity of data.\n",
    "- Turbo aspiration should result in higher horsepower on average, although there are clearly some outliers with standard aspiration and very high horsepower. The relationship between these two variables is not as clear."
   ]
  },
  {
   "cell_type": "markdown",
   "id": "4f0361d8",
   "metadata": {},
   "source": [
    "### Car dimensions, weight and price\n",
    "Here the relationship will probably be obvious: the more materials you use to build a car the more expensive it will be."
   ]
  },
  {
   "cell_type": "markdown",
   "id": "8bcf2ed9",
   "metadata": {},
   "source": [
    "##### Weight and price"
   ]
  },
  {
   "cell_type": "code",
   "execution_count": 71,
   "id": "8e76e483",
   "metadata": {},
   "outputs": [
    {
     "name": "stdout",
     "output_type": "stream",
     "text": [
      "Correlation between curbweight and price: 0.835304879337296\n"
     ]
    },
    {
     "data": {
      "image/png": "[encoded data removed]",
      "text/plain": [
       "<Figure size 600x600 with 3 Axes>"
      ]
     },
     "metadata": {},
     "output_type": "display_data"
    }
   ],
   "source": [
    "correlation = df['curbweight'].corr(df['price'])\n",
    "print(\"Correlation between curbweight and price:\", correlation)\n",
    "sns.jointplot(data=df, x='curbweight', y='price', kind='reg', scatter_kws={'alpha':0.6})\n",
    "plt.show()"
   ]
  },
  {
   "cell_type": "markdown",
   "id": "c74f8a1d",
   "metadata": {},
   "source": [
    "There is a clear correlation between car weight and price."
   ]
  },
  {
   "cell_type": "markdown",
   "id": "82b44837",
   "metadata": {},
   "source": [
    "##### Dimensions and price\n",
    "Since making a bigger car require more materials it is expected that larger cars should be more expensive. This can be summarized nicely in a 3D plot:"
   ]
  },
  {
   "cell_type": "code",
   "execution_count": 72,
   "id": "f3e9f3fc",
   "metadata": {},
   "outputs": [
    {
     "data": {
      "application/vnd.plotly.v1+json": {
       "config": {
        "plotlyServerURL": "https://plot.ly"
       },
       "data": [
        {
         "hovertemplate": "carlength=%{x}<br>carwidth=%{y}<br>carheight=%{z}<br>price=%{marker.color}<extra></extra>",
         "legendgroup": "",
         "marker": {
          "color": [
           13495,
           16500,
           16500,
           13950,
           17450,
           15250,
           17710,
           18920,
           23875,
           17859.167,
           16430,
           16925,
           20970,
           21105,
           24565,
           30760,
           41315,
           36880,
           5151,
           6295,
           6575,
           5572,
           6377,
           7957,
           6229,
           6692,
           7609,
           8558,
           8921,
           12964,
           6479,
           6855,
           5399,
           6529,
           7129,
           7295,
           7295,
           7895,
           9095,
           8845,
           10295,
           12945,
           10345,
           6785,
           8916.5,
           8916.5,
           11048,
           32250,
           35550,
           36000,
           5195,
           6095,
           6795,
           6695,
           7395,
           10945,
           11845,
           13645,
           15645,
           8845,
           8495,
           10595,
           10245,
           10795,
           11245,
           18280,
           18344,
           25552,
           28248,
           28176,
           31600,
           34184,
           35056,
           40960,
           45400,
           16503,
           5389,
           6189,
           6669,
           7689,
           9959,
           8499,
           12629,
           14869,
           14489,
           6989,
           8189,
           9279,
           9279,
           5499,
           7099,
           6649,
           6849,
           7349,
           7299,
           7799,
           7499,
           7999,
           8249,
           8949,
           9549,
           13499,
           14399,
           13499,
           17199,
           19699,
           18399,
           11900,
           13200,
           12440,
           13860,
           15580,
           16900,
           16695,
           17075,
           16630,
           17950,
           18150,
           5572,
           7957,
           6229,
           6692,
           7609,
           8921,
           12764,
           22018,
           32528,
           34028,
           37028,
           31400.5,
           9295,
           9895,
           11850,
           12170,
           15040,
           15510,
           18150,
           18620,
           5118,
           7053,
           7603,
           7126,
           7775,
           9960,
           9233,
           11259,
           7463,
           10198,
           8013,
           11694,
           5348,
           6338,
           6488,
           6918,
           7898,
           8778,
           6938,
           7198,
           7898,
           7788,
           7738,
           8358,
           9258,
           8058,
           8238,
           9298,
           9538,
           8449,
           9639,
           9989,
           11199,
           11549,
           17669,
           8948,
           10698,
           9988,
           10898,
           11248,
           16558,
           15998,
           15690,
           15750,
           7775,
           7975,
           7995,
           8195,
           8495,
           9495,
           9995,
           11595,
           9980,
           13295,
           13845,
           12290,
           12940,
           13415,
           15985,
           16515,
           18420,
           18950,
           16845,
           19045,
           21485,
           22470,
           22625
          ],
          "coloraxis": "coloraxis",
          "symbol": "circle"
         },
         "mode": "markers",
         "name": "",
         "scene": "scene",
         "showlegend": false,
         "type": "scatter3d",
         "x": [
          168.8,
          168.8,
          171.2,
          176.6,
          176.6,
          177.3,
          192.7,
          192.7,
          192.7,
          178.2,
          176.8,
          176.8,
          176.8,
          176.8,
          189,
          189,
          193.8,
          197,
          141.1,
          155.9,
          158.8,
          157.3,
          157.3,
          157.3,
          157.3,
          157.3,
          157.3,
          157.3,
          174.6,
          173.2,
          144.6,
          144.6,
          150,
          150,
          150,
          163.4,
          157.1,
          167.5,
          167.5,
          175.4,
          175.4,
          175.4,
          169.1,
          170.7,
          155.9,
          155.9,
          172.6,
          199.6,
          199.6,
          191.7,
          159.1,
          159.1,
          159.1,
          166.8,
          166.8,
          169,
          169,
          169,
          169,
          177.8,
          177.8,
          177.8,
          177.8,
          177.8,
          177.8,
          175,
          175,
          190.9,
          190.9,
          187.5,
          202.6,
          202.6,
          180.3,
          208.1,
          199.2,
          178.4,
          157.3,
          157.3,
          157.3,
          157.3,
          173,
          173,
          173.2,
          173.2,
          173.2,
          172.4,
          172.4,
          172.4,
          172.4,
          165.3,
          165.3,
          165.3,
          165.3,
          170.2,
          165.3,
          165.6,
          165.3,
          170.2,
          162.4,
          173.4,
          173.4,
          181.7,
          184.6,
          184.6,
          170.7,
          170.7,
          178.5,
          186.7,
          186.7,
          198.9,
          198.9,
          186.7,
          186.7,
          198.9,
          198.9,
          186.7,
          186.7,
          186.7,
          157.3,
          157.3,
          157.3,
          167.3,
          167.3,
          174.6,
          173.2,
          168.9,
          168.9,
          168.9,
          168.9,
          175.7,
          181.5,
          176.8,
          186.6,
          186.6,
          186.6,
          186.6,
          186.6,
          186.6,
          156.9,
          157.9,
          157.3,
          172,
          172,
          172,
          172,
          172,
          173.5,
          173.5,
          173.6,
          173.6,
          158.7,
          158.7,
          158.7,
          169.7,
          169.7,
          169.7,
          166.3,
          166.3,
          166.3,
          166.3,
          166.3,
          166.3,
          166.3,
          168.7,
          168.7,
          168.7,
          168.7,
          176.2,
          176.2,
          176.2,
          176.2,
          176.2,
          176.2,
          175.6,
          175.6,
          175.6,
          175.6,
          175.6,
          183.5,
          183.5,
          187.8,
          187.8,
          171.7,
          171.7,
          171.7,
          171.7,
          171.7,
          171.7,
          171.7,
          159.3,
          165.7,
          180.2,
          180.2,
          183.1,
          188.8,
          188.8,
          188.8,
          188.8,
          188.8,
          188.8,
          188.8,
          188.8,
          188.8,
          188.8,
          188.8
         ],
         "y": [
          64.1,
          64.1,
          65.5,
          66.2,
          66.4,
          66.3,
          71.4,
          71.4,
          71.4,
          67.9,
          64.8,
          64.8,
          64.8,
          64.8,
          66.9,
          66.9,
          67.9,
          70.9,
          60.3,
          63.6,
          63.6,
          63.8,
          63.8,
          63.8,
          63.8,
          63.8,
          63.8,
          63.8,
          64.6,
          66.3,
          63.9,
          63.9,
          64,
          64,
          64,
          64,
          63.9,
          65.2,
          65.2,
          65.2,
          62.5,
          65.2,
          66,
          61.8,
          63.6,
          63.6,
          65.2,
          69.6,
          69.6,
          70.6,
          64.2,
          64.2,
          64.2,
          64.2,
          64.2,
          65.7,
          65.7,
          65.7,
          65.7,
          66.5,
          66.5,
          66.5,
          66.5,
          66.5,
          66.5,
          66.1,
          66.1,
          70.3,
          70.3,
          70.3,
          71.7,
          71.7,
          70.5,
          71.7,
          72,
          68,
          64.4,
          64.4,
          64.4,
          63.8,
          65.4,
          65.4,
          66.3,
          66.3,
          66.3,
          65.4,
          65.4,
          65.4,
          65.4,
          63.8,
          63.8,
          63.8,
          63.8,
          63.8,
          63.8,
          63.8,
          63.8,
          63.8,
          63.8,
          65.2,
          65.2,
          66.5,
          66.5,
          66.5,
          67.9,
          67.9,
          67.9,
          68.4,
          68.4,
          68.4,
          68.4,
          68.4,
          68.4,
          68.4,
          68.4,
          68.4,
          68.4,
          68.3,
          63.8,
          63.8,
          63.8,
          63.8,
          63.8,
          64.6,
          66.3,
          68.3,
          65,
          65,
          65,
          72.3,
          66.5,
          66.6,
          66.5,
          66.5,
          66.5,
          66.5,
          66.5,
          66.5,
          63.4,
          63.6,
          63.8,
          65.4,
          65.4,
          65.4,
          65.4,
          65.4,
          65.4,
          65.4,
          65.4,
          65.4,
          63.6,
          63.6,
          63.6,
          63.6,
          63.6,
          63.6,
          64.4,
          64.4,
          64.4,
          64.4,
          64.4,
          64.4,
          64.4,
          64,
          64,
          64,
          64,
          65.6,
          65.6,
          65.6,
          65.6,
          65.6,
          65.6,
          66.5,
          66.5,
          66.5,
          66.5,
          66.5,
          67.7,
          67.7,
          66.5,
          66.5,
          65.5,
          65.5,
          65.5,
          65.5,
          65.5,
          65.5,
          65.5,
          64.2,
          64,
          66.9,
          66.9,
          66.9,
          67.2,
          67.2,
          67.2,
          67.2,
          67.2,
          67.2,
          68.9,
          68.8,
          68.9,
          68.9,
          68.9
         ],
         "z": [
          48.8,
          48.8,
          52.4,
          54.3,
          54.3,
          53.1,
          55.7,
          55.7,
          55.9,
          52,
          54.3,
          54.3,
          54.3,
          54.3,
          55.7,
          55.7,
          53.7,
          56.3,
          53.2,
          52,
          52,
          50.8,
          50.8,
          50.8,
          50.6,
          50.6,
          50.6,
          50.6,
          59.8,
          50.2,
          50.8,
          50.8,
          52.6,
          52.6,
          52.6,
          54.5,
          58.3,
          53.3,
          53.3,
          54.1,
          54.1,
          54.1,
          51,
          53.5,
          52,
          52,
          51.4,
          52.8,
          52.8,
          47.8,
          54.1,
          54.1,
          54.1,
          54.1,
          54.1,
          49.6,
          49.6,
          49.6,
          49.6,
          53.7,
          55.5,
          53.7,
          55.5,
          55.5,
          55.5,
          54.4,
          54.4,
          56.5,
          58.7,
          54.9,
          56.3,
          56.5,
          50.8,
          56.7,
          55.4,
          54.8,
          50.8,
          50.8,
          50.8,
          50.8,
          49.4,
          49.4,
          50.2,
          50.2,
          50.2,
          51.6,
          51.6,
          51.6,
          51.6,
          54.5,
          54.5,
          54.5,
          54.5,
          53.5,
          54.5,
          53.3,
          54.5,
          53.5,
          53.3,
          54.7,
          54.7,
          55.1,
          56.1,
          55.1,
          49.7,
          49.7,
          49.7,
          56.7,
          56.7,
          58.7,
          58.7,
          56.7,
          56.7,
          56.7,
          58.7,
          56.7,
          56.7,
          56,
          50.8,
          50.8,
          50.6,
          50.8,
          50.8,
          59.8,
          50.2,
          50.2,
          51.6,
          51.6,
          51.6,
          50.5,
          55.2,
          50.5,
          56.1,
          56.1,
          56.1,
          56.1,
          56.1,
          56.1,
          53.7,
          53.7,
          55.7,
          52.5,
          52.5,
          52.5,
          54.3,
          54.3,
          53,
          53,
          54.9,
          54.9,
          54.5,
          54.5,
          54.5,
          59.1,
          59.1,
          59.1,
          53,
          52.8,
          53,
          52.8,
          53,
          52.8,
          52.8,
          52.6,
          52.6,
          52.6,
          52.6,
          52,
          52,
          52,
          52,
          52,
          53,
          54.9,
          54.9,
          53.9,
          54.9,
          53.9,
          52,
          52,
          54.1,
          54.1,
          55.7,
          55.7,
          55.7,
          55.7,
          55.7,
          55.7,
          55.7,
          55.6,
          51.4,
          55.1,
          55.1,
          55.1,
          56.2,
          57.5,
          56.2,
          57.5,
          56.2,
          57.5,
          55.5,
          55.5,
          55.5,
          55.5,
          55.5
         ]
        }
       ],
       "layout": {
        "coloraxis": {
         "colorbar": {
          "title": {
           "text": "price"
          }
         },
         "colorscale": [
          [
           0,
           "#0d0887"
          ],
          [
           0.1111111111111111,
           "#46039f"
          ],
          [
           0.2222222222222222,
           "#7201a8"
          ],
          [
           0.3333333333333333,
           "#9c179e"
          ],
          [
           0.4444444444444444,
           "#bd3786"
          ],
          [
           0.5555555555555556,
           "#d8576b"
          ],
          [
           0.6666666666666666,
           "#ed7953"
          ],
          [
           0.7777777777777778,
           "#fb9f3a"
          ],
          [
           0.8888888888888888,
           "#fdca26"
          ],
          [
           1,
           "#f0f921"
          ]
         ]
        },
        "legend": {
         "tracegroupgap": 0
        },
        "scene": {
         "domain": {
          "x": [
           0,
           1
          ],
          "y": [
           0,
           1
          ]
         },
         "xaxis": {
          "title": {
           "text": "carlength"
          }
         },
         "yaxis": {
          "title": {
           "text": "carwidth"
          }
         },
         "zaxis": {
          "title": {
           "text": "carheight"
          }
         }
        },
        "template": {
         "data": {
          "bar": [
           {
            "error_x": {
             "color": "#2a3f5f"
            },
            "error_y": {
             "color": "#2a3f5f"
            },
            "marker": {
             "line": {
              "color": "#E5ECF6",
              "width": 0.5
             },
             "pattern": {
              "fillmode": "overlay",
              "size": 10,
              "solidity": 0.2
             }
            },
            "type": "bar"
           }
          ],
          "barpolar": [
           {
            "marker": {
             "line": {
              "color": "#E5ECF6",
              "width": 0.5
             },
             "pattern": {
              "fillmode": "overlay",
              "size": 10,
              "solidity": 0.2
             }
            },
            "type": "barpolar"
           }
          ],
          "carpet": [
           {
            "aaxis": {
             "endlinecolor": "#2a3f5f",
             "gridcolor": "white",
             "linecolor": "white",
             "minorgridcolor": "white",
             "startlinecolor": "#2a3f5f"
            },
            "baxis": {
             "endlinecolor": "#2a3f5f",
             "gridcolor": "white",
             "linecolor": "white",
             "minorgridcolor": "white",
             "startlinecolor": "#2a3f5f"
            },
            "type": "carpet"
           }
          ],
          "choropleth": [
           {
            "colorbar": {
             "outlinewidth": 0,
             "ticks": ""
            },
            "type": "choropleth"
           }
          ],
          "contour": [
           {
            "colorbar": {
             "outlinewidth": 0,
             "ticks": ""
            },
            "colorscale": [
             [
              0,
              "#0d0887"
             ],
             [
              0.1111111111111111,
              "#46039f"
             ],
             [
              0.2222222222222222,
              "#7201a8"
             ],
             [
              0.3333333333333333,
              "#9c179e"
             ],
             [
              0.4444444444444444,
              "#bd3786"
             ],
             [
              0.5555555555555556,
              "#d8576b"
             ],
             [
              0.6666666666666666,
              "#ed7953"
             ],
             [
              0.7777777777777778,
              "#fb9f3a"
             ],
             [
              0.8888888888888888,
              "#fdca26"
             ],
             [
              1,
              "#f0f921"
             ]
            ],
            "type": "contour"
           }
          ],
          "contourcarpet": [
           {
            "colorbar": {
             "outlinewidth": 0,
             "ticks": ""
            },
            "type": "contourcarpet"
           }
          ],
          "heatmap": [
           {
            "colorbar": {
             "outlinewidth": 0,
             "ticks": ""
            },
            "colorscale": [
             [
              0,
              "#0d0887"
             ],
             [
              0.1111111111111111,
              "#46039f"
             ],
             [
              0.2222222222222222,
              "#7201a8"
             ],
             [
              0.3333333333333333,
              "#9c179e"
             ],
             [
              0.4444444444444444,
              "#bd3786"
             ],
             [
              0.5555555555555556,
              "#d8576b"
             ],
             [
              0.6666666666666666,
              "#ed7953"
             ],
             [
              0.7777777777777778,
              "#fb9f3a"
             ],
             [
              0.8888888888888888,
              "#fdca26"
             ],
             [
              1,
              "#f0f921"
             ]
            ],
            "type": "heatmap"
           }
          ],
          "heatmapgl": [
           {
            "colorbar": {
             "outlinewidth": 0,
             "ticks": ""
            },
            "colorscale": [
             [
              0,
              "#0d0887"
             ],
             [
              0.1111111111111111,
              "#46039f"
             ],
             [
              0.2222222222222222,
              "#7201a8"
             ],
             [
              0.3333333333333333,
              "#9c179e"
             ],
             [
              0.4444444444444444,
              "#bd3786"
             ],
             [
              0.5555555555555556,
              "#d8576b"
             ],
             [
              0.6666666666666666,
              "#ed7953"
             ],
             [
              0.7777777777777778,
              "#fb9f3a"
             ],
             [
              0.8888888888888888,
              "#fdca26"
             ],
             [
              1,
              "#f0f921"
             ]
            ],
            "type": "heatmapgl"
           }
          ],
          "histogram": [
           {
            "marker": {
             "pattern": {
              "fillmode": "overlay",
              "size": 10,
              "solidity": 0.2
             }
            },
            "type": "histogram"
           }
          ],
          "histogram2d": [
           {
            "colorbar": {
             "outlinewidth": 0,
             "ticks": ""
            },
            "colorscale": [
             [
              0,
              "#0d0887"
             ],
             [
              0.1111111111111111,
              "#46039f"
             ],
             [
              0.2222222222222222,
              "#7201a8"
             ],
             [
              0.3333333333333333,
              "#9c179e"
             ],
             [
              0.4444444444444444,
              "#bd3786"
             ],
             [
              0.5555555555555556,
              "#d8576b"
             ],
             [
              0.6666666666666666,
              "#ed7953"
             ],
             [
              0.7777777777777778,
              "#fb9f3a"
             ],
             [
              0.8888888888888888,
              "#fdca26"
             ],
             [
              1,
              "#f0f921"
             ]
            ],
            "type": "histogram2d"
           }
          ],
          "histogram2dcontour": [
           {
            "colorbar": {
             "outlinewidth": 0,
             "ticks": ""
            },
            "colorscale": [
             [
              0,
              "#0d0887"
             ],
             [
              0.1111111111111111,
              "#46039f"
             ],
             [
              0.2222222222222222,
              "#7201a8"
             ],
             [
              0.3333333333333333,
              "#9c179e"
             ],
             [
              0.4444444444444444,
              "#bd3786"
             ],
             [
              0.5555555555555556,
              "#d8576b"
             ],
             [
              0.6666666666666666,
              "#ed7953"
             ],
             [
              0.7777777777777778,
              "#fb9f3a"
             ],
             [
              0.8888888888888888,
              "#fdca26"
             ],
             [
              1,
              "#f0f921"
             ]
            ],
            "type": "histogram2dcontour"
           }
          ],
          "mesh3d": [
           {
            "colorbar": {
             "outlinewidth": 0,
             "ticks": ""
            },
            "type": "mesh3d"
           }
          ],
          "parcoords": [
           {
            "line": {
             "colorbar": {
              "outlinewidth": 0,
              "ticks": ""
             }
            },
            "type": "parcoords"
           }
          ],
          "pie": [
           {
            "automargin": true,
            "type": "pie"
           }
          ],
          "scatter": [
           {
            "fillpattern": {
             "fillmode": "overlay",
             "size": 10,
             "solidity": 0.2
            },
            "type": "scatter"
           }
          ],
          "scatter3d": [
           {
            "line": {
             "colorbar": {
              "outlinewidth": 0,
              "ticks": ""
             }
            },
            "marker": {
             "colorbar": {
              "outlinewidth": 0,
              "ticks": ""
             }
            },
            "type": "scatter3d"
           }
          ],
          "scattercarpet": [
           {
            "marker": {
             "colorbar": {
              "outlinewidth": 0,
              "ticks": ""
             }
            },
            "type": "scattercarpet"
           }
          ],
          "scattergeo": [
           {
            "marker": {
             "colorbar": {
              "outlinewidth": 0,
              "ticks": ""
             }
            },
            "type": "scattergeo"
           }
          ],
          "scattergl": [
           {
            "marker": {
             "colorbar": {
              "outlinewidth": 0,
              "ticks": ""
             }
            },
            "type": "scattergl"
           }
          ],
          "scattermapbox": [
           {
            "marker": {
             "colorbar": {
              "outlinewidth": 0,
              "ticks": ""
             }
            },
            "type": "scattermapbox"
           }
          ],
          "scatterpolar": [
           {
            "marker": {
             "colorbar": {
              "outlinewidth": 0,
              "ticks": ""
             }
            },
            "type": "scatterpolar"
           }
          ],
          "scatterpolargl": [
           {
            "marker": {
             "colorbar": {
              "outlinewidth": 0,
              "ticks": ""
             }
            },
            "type": "scatterpolargl"
           }
          ],
          "scatterternary": [
           {
            "marker": {
             "colorbar": {
              "outlinewidth": 0,
              "ticks": ""
             }
            },
            "type": "scatterternary"
           }
          ],
          "surface": [
           {
            "colorbar": {
             "outlinewidth": 0,
             "ticks": ""
            },
            "colorscale": [
             [
              0,
              "#0d0887"
             ],
             [
              0.1111111111111111,
              "#46039f"
             ],
             [
              0.2222222222222222,
              "#7201a8"
             ],
             [
              0.3333333333333333,
              "#9c179e"
             ],
             [
              0.4444444444444444,
              "#bd3786"
             ],
             [
              0.5555555555555556,
              "#d8576b"
             ],
             [
              0.6666666666666666,
              "#ed7953"
             ],
             [
              0.7777777777777778,
              "#fb9f3a"
             ],
             [
              0.8888888888888888,
              "#fdca26"
             ],
             [
              1,
              "#f0f921"
             ]
            ],
            "type": "surface"
           }
          ],
          "table": [
           {
            "cells": {
             "fill": {
              "color": "#EBF0F8"
             },
             "line": {
              "color": "white"
             }
            },
            "header": {
             "fill": {
              "color": "#C8D4E3"
             },
             "line": {
              "color": "white"
             }
            },
            "type": "table"
           }
          ]
         },
         "layout": {
          "annotationdefaults": {
           "arrowcolor": "#2a3f5f",
           "arrowhead": 0,
           "arrowwidth": 1
          },
          "autotypenumbers": "strict",
          "coloraxis": {
           "colorbar": {
            "outlinewidth": 0,
            "ticks": ""
           }
          },
          "colorscale": {
           "diverging": [
            [
             0,
             "#8e0152"
            ],
            [
             0.1,
             "#c51b7d"
            ],
            [
             0.2,
             "#de77ae"
            ],
            [
             0.3,
             "#f1b6da"
            ],
            [
             0.4,
             "#fde0ef"
            ],
            [
             0.5,
             "#f7f7f7"
            ],
            [
             0.6,
             "#e6f5d0"
            ],
            [
             0.7,
             "#b8e186"
            ],
            [
             0.8,
             "#7fbc41"
            ],
            [
             0.9,
             "#4d9221"
            ],
            [
             1,
             "#276419"
            ]
           ],
           "sequential": [
            [
             0,
             "#0d0887"
            ],
            [
             0.1111111111111111,
             "#46039f"
            ],
            [
             0.2222222222222222,
             "#7201a8"
            ],
            [
             0.3333333333333333,
             "#9c179e"
            ],
            [
             0.4444444444444444,
             "#bd3786"
            ],
            [
             0.5555555555555556,
             "#d8576b"
            ],
            [
             0.6666666666666666,
             "#ed7953"
            ],
            [
             0.7777777777777778,
             "#fb9f3a"
            ],
            [
             0.8888888888888888,
             "#fdca26"
            ],
            [
             1,
             "#f0f921"
            ]
           ],
           "sequentialminus": [
            [
             0,
             "#0d0887"
            ],
            [
             0.1111111111111111,
             "#46039f"
            ],
            [
             0.2222222222222222,
             "#7201a8"
            ],
            [
             0.3333333333333333,
             "#9c179e"
            ],
            [
             0.4444444444444444,
             "#bd3786"
            ],
            [
             0.5555555555555556,
             "#d8576b"
            ],
            [
             0.6666666666666666,
             "#ed7953"
            ],
            [
             0.7777777777777778,
             "#fb9f3a"
            ],
            [
             0.8888888888888888,
             "#fdca26"
            ],
            [
             1,
             "#f0f921"
            ]
           ]
          },
          "colorway": [
           "#636efa",
           "#EF553B",
           "#00cc96",
           "#ab63fa",
           "#FFA15A",
           "#19d3f3",
           "#FF6692",
           "#B6E880",
           "#FF97FF",
           "#FECB52"
          ],
          "font": {
           "color": "#2a3f5f"
          },
          "geo": {
           "bgcolor": "white",
           "lakecolor": "white",
           "landcolor": "#E5ECF6",
           "showlakes": true,
           "showland": true,
           "subunitcolor": "white"
          },
          "hoverlabel": {
           "align": "left"
          },
          "hovermode": "closest",
          "mapbox": {
           "style": "light"
          },
          "paper_bgcolor": "white",
          "plot_bgcolor": "#E5ECF6",
          "polar": {
           "angularaxis": {
            "gridcolor": "white",
            "linecolor": "white",
            "ticks": ""
           },
           "bgcolor": "#E5ECF6",
           "radialaxis": {
            "gridcolor": "white",
            "linecolor": "white",
            "ticks": ""
           }
          },
          "scene": {
           "xaxis": {
            "backgroundcolor": "#E5ECF6",
            "gridcolor": "white",
            "gridwidth": 2,
            "linecolor": "white",
            "showbackground": true,
            "ticks": "",
            "zerolinecolor": "white"
           },
           "yaxis": {
            "backgroundcolor": "#E5ECF6",
            "gridcolor": "white",
            "gridwidth": 2,
            "linecolor": "white",
            "showbackground": true,
            "ticks": "",
            "zerolinecolor": "white"
           },
           "zaxis": {
            "backgroundcolor": "#E5ECF6",
            "gridcolor": "white",
            "gridwidth": 2,
            "linecolor": "white",
            "showbackground": true,
            "ticks": "",
            "zerolinecolor": "white"
           }
          },
          "shapedefaults": {
           "line": {
            "color": "#2a3f5f"
           }
          },
          "ternary": {
           "aaxis": {
            "gridcolor": "white",
            "linecolor": "white",
            "ticks": ""
           },
           "baxis": {
            "gridcolor": "white",
            "linecolor": "white",
            "ticks": ""
           },
           "bgcolor": "#E5ECF6",
           "caxis": {
            "gridcolor": "white",
            "linecolor": "white",
            "ticks": ""
           }
          },
          "title": {
           "x": 0.05
          },
          "xaxis": {
           "automargin": true,
           "gridcolor": "white",
           "linecolor": "white",
           "ticks": "",
           "title": {
            "standoff": 15
           },
           "zerolinecolor": "white",
           "zerolinewidth": 2
          },
          "yaxis": {
           "automargin": true,
           "gridcolor": "white",
           "linecolor": "white",
           "ticks": "",
           "title": {
            "standoff": 15
           },
           "zerolinecolor": "white",
           "zerolinewidth": 2
          }
         }
        },
        "title": {
         "text": "3D Scatter Plot of Car Dimensions and Price"
        }
       }
      }
     },
     "metadata": {},
     "output_type": "display_data"
    }
   ],
   "source": [
    "fig = px.scatter_3d(df, x='carlength', y='carwidth', z='carheight', color='price', title='3D Scatter Plot of Car Dimensions and Price')\n",
    "fig.show()"
   ]
  },
  {
   "cell_type": "markdown",
   "id": "61529f4a",
   "metadata": {},
   "source": [
    "Since this graph is really data-dense and might be hard to read, let's see the scatter plot with the correlation for each of car's dimension:"
   ]
  },
  {
   "cell_type": "code",
   "execution_count": 73,
   "id": "7707c326",
   "metadata": {},
   "outputs": [
    {
     "data": {
      "image/png": "[encoded data removed]",
      "text/plain": [
       "<Figure size 1500x500 with 3 Axes>"
      ]
     },
     "metadata": {},
     "output_type": "display_data"
    }
   ],
   "source": [
    "fig, axes = plt.subplots(nrows=1, ncols=3, figsize=(15, 5))\n",
    "\n",
    "# plots\n",
    "sns.scatterplot(data=df, x='carlength', y='price', ax=axes[0])\n",
    "sns.scatterplot(data=df, x='carwidth', y='price', ax=axes[1])\n",
    "sns.scatterplot(data=df, x='carheight', y='price', ax=axes[2])\n",
    "\n",
    "#correlations\n",
    "lengthcorr = df['carlength'].corr(df['price'])\n",
    "widthcorr = df['carwidth'].corr(df['price'])\n",
    "heightcorr = df['carheight'].corr(df['price'])\n",
    "\n",
    "# add correlation text\n",
    "axes[0].text(0.5, 0.9, f'Correlation: {lengthcorr:.2f}', transform=axes[0].transAxes, ha='center')\n",
    "axes[1].text(0.5, 0.9, f'Correlation: {widthcorr:.2f}', transform=axes[1].transAxes, ha='center')\n",
    "axes[2].text(0.5, 0.9, f'Correlation: {heightcorr:.2f}', transform=axes[2].transAxes, ha='center')\n",
    "\n",
    "plt.show()"
   ]
  },
  {
   "cell_type": "markdown",
   "id": "5cddbae3",
   "metadata": {},
   "source": [
    "Here you can see that the correlation is actually not that clear, especially in the case of car height. This has probably something to do with the car body. Car length and even car width also show significantly lower correlation with car price, than the weight or horsepower does."
   ]
  },
  {
   "cell_type": "markdown",
   "id": "436e1112",
   "metadata": {},
   "source": [
    "### Fuel efficiency and price\n",
    "Finally we will take a look at the relationship between city and highway mpg, and price:"
   ]
  },
  {
   "cell_type": "code",
   "execution_count": 74,
   "id": "ae2c59c8",
   "metadata": {},
   "outputs": [
    {
     "data": {
      "image/png": "[encoded data removed]",
      "text/plain": [
       "<Figure size 1000x500 with 2 Axes>"
      ]
     },
     "metadata": {},
     "output_type": "display_data"
    }
   ],
   "source": [
    "fig, axes = plt.subplots(nrows=1, ncols=2, figsize=(10, 5))\n",
    "\n",
    "sns.scatterplot(data=df, x='citympg', y='price', ax=axes[0])\n",
    "sns.scatterplot(data=df, x='highwaympg', y='price', ax=axes[1])\n",
    "\n",
    "city_corr = df['citympg'].corr(df['price'])\n",
    "highway_corr = df['highwaympg'].corr(df['price'])\n",
    "\n",
    "axes[0].text(0.5, 0.9, f'Correlation: {city_corr:.2f}', transform=axes[0].transAxes, ha='center')\n",
    "axes[1].text(0.5, 0.9, f'Correlation: {highway_corr:.2f}', transform=axes[1].transAxes, ha='center')\n",
    "\n",
    "plt.show()"
   ]
  },
  {
   "cell_type": "markdown",
   "id": "24544458",
   "metadata": {},
   "source": [
    "Here we can also see a moderate correlation (0.7) for both signifying that higher fuel efficiency tends to be a feature of more expensive cars. You can also see that the most expensive cars are concentrated on the left high efficiency quadrant, but not all highly efficient cars are necessary very expensive."
   ]
  },
  {
   "cell_type": "markdown",
   "id": "10aca7f5",
   "metadata": {},
   "source": [
    "## Conclusion\n",
    "\n",
    "### Summary\n",
    "We can deduce several conclusions from these findings:\n",
    "- Most car prices are concentrated at the lower end, with a few premium models as outliers.\n",
    "- Technical and mechanical features such as diesel fuel, turbo aspiration, rear-wheel drive, rear engine location, DOHC engine type, and fuel injection systems are associated with higher average prices, although some of these values such as engine location are ambiguous due to the scarcity of data.\n",
    "- There is a strong positive correlation between horsepower, engine size, and price—cars with more powerful and larger engines tend to be more expensive.\n",
    "- Rear-wheel drive and turbo aspiration generally result in higher horsepower, but there are exceptions and outliers.\n",
    "- Newer technologies (like multi-port fuel injection and DOHC engines) are linked to higher performance and price.\n",
    "- Some car bodies seem to come at premium price although the more expensive ones are relatively rare\n",
    "- Car weight is strongly correlated with price, while car length and width show weaker correlations, and car height has little effect.\n",
    "- Higher fuel efficiency (city and highway mpg) is moderately correlated with higher price, suggesting that more expensive cars often feature better efficiency.\n",
    "- Some categorical features (like engine type and drive wheel) interact with performance and price, but data scarcity in certain categories limits definitive conclusions.\n",
    "\n",
    "Overall, the analysis shows that both technical specifications such as horsepower, and categorical features play important roles in determining car price, with performance, technology, and brand prestige being key drivers of higher prices.\n",
    "\n",
    "### Recommendations\n",
    "\n",
    "- in order to compete on the market and maybe sell cars at premium focus on providing the highest horsepower and engine size.\n",
    "- make sure to implement newer technologies such as multi-port fuel injection and DOHC.\n",
    "- use rear-wheel drive if possible\n",
    "- Cars don't necessarily have to be very large to be expensive, but if you want to sell more expensive cars make sure to not make them too small\n",
    "- Higher fuel efficiency is important but not necessary make or break factor for consumers"
   ]
  }
 ],
 "metadata": {
  "kernelspec": {
   "display_name": ".venv",
   "language": "python",
   "name": "python3"
  },
  "language_info": {
   "codemirror_mode": {
    "name": "ipython",
    "version": 3
   },
   "file_extension": ".py",
   "mimetype": "text/x-python",
   "name": "python",
   "nbconvert_exporter": "python",
   "pygments_lexer": "ipython3",
   "version": "3.12.10"
  }
 },
 "nbformat": 4,
 "nbformat_minor": 5
}
