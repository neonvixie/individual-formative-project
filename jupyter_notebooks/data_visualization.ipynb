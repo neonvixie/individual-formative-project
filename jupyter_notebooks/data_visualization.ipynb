{
 "cells": [
  {
   "cell_type": "markdown",
   "id": "8c14ffcc",
   "metadata": {},
   "source": [
    "# **Data Visualization**"
   ]
  },
  {
   "cell_type": "markdown",
   "id": "3e39bec9",
   "metadata": {},
   "source": [
    "## Objectives\n",
    "* Read the cleaned data and visualize it in order to understand trends, correlations, and to understand which variables influence price.\n",
    "\n",
    "## Inputs\n",
    "* The file uses `CarPrice_cleaned.csv` located in `data\\cleaned` folder.\n",
    "\n",
    "## Outputs\n",
    "* This notebook generates various plots and relies on `matplotlib`, `seaborn` and `plotly` to generate them"
   ]
  },
  {
   "cell_type": "markdown",
   "id": "eb50f524",
   "metadata": {},
   "source": [
    "## Load the libraries and the data\n",
    "In this section relevant data analysis libraries and the raw data will be loaded."
   ]
  },
  {
   "cell_type": "code",
   "execution_count": 11,
   "id": "8fd32f07",
   "metadata": {},
   "outputs": [],
   "source": [
    "import pandas as pd\n",
    "import matplotlib.pyplot as plt\n",
    "import seaborn as sns\n",
    "import plotly.express as px\n",
    "sns.set_style('whitegrid')"
   ]
  },
  {
   "cell_type": "markdown",
   "id": "82602e60",
   "metadata": {},
   "source": [
    "The data will be loaded as the variable `df`:"
   ]
  },
  {
   "cell_type": "code",
   "execution_count": 12,
   "id": "f5a035ac",
   "metadata": {},
   "outputs": [
    {
     "name": "stdout",
     "output_type": "stream",
     "text": [
      "(205, 27)\n"
     ]
    },
    {
     "data": {
      "text/html": [
       "<div>\n",
       "<style scoped>\n",
       "    .dataframe tbody tr th:only-of-type {\n",
       "        vertical-align: middle;\n",
       "    }\n",
       "\n",
       "    .dataframe tbody tr th {\n",
       "        vertical-align: top;\n",
       "    }\n",
       "\n",
       "    .dataframe thead th {\n",
       "        text-align: right;\n",
       "    }\n",
       "</style>\n",
       "<table border=\"1\" class=\"dataframe\">\n",
       "  <thead>\n",
       "    <tr style=\"text-align: right;\">\n",
       "      <th></th>\n",
       "      <th>car_ID</th>\n",
       "      <th>symboling</th>\n",
       "      <th>CarName</th>\n",
       "      <th>fueltype</th>\n",
       "      <th>aspiration</th>\n",
       "      <th>doornumber</th>\n",
       "      <th>carbody</th>\n",
       "      <th>drivewheel</th>\n",
       "      <th>enginelocation</th>\n",
       "      <th>wheelbase</th>\n",
       "      <th>...</th>\n",
       "      <th>fuelsystem</th>\n",
       "      <th>boreratio</th>\n",
       "      <th>stroke</th>\n",
       "      <th>compressionratio</th>\n",
       "      <th>horsepower</th>\n",
       "      <th>peakrpm</th>\n",
       "      <th>citympg</th>\n",
       "      <th>highwaympg</th>\n",
       "      <th>price</th>\n",
       "      <th>brand</th>\n",
       "    </tr>\n",
       "  </thead>\n",
       "  <tbody>\n",
       "    <tr>\n",
       "      <th>0</th>\n",
       "      <td>1</td>\n",
       "      <td>3</td>\n",
       "      <td>alfa-romero giulia</td>\n",
       "      <td>gas</td>\n",
       "      <td>std</td>\n",
       "      <td>2</td>\n",
       "      <td>convertible</td>\n",
       "      <td>rwd</td>\n",
       "      <td>front</td>\n",
       "      <td>88.6</td>\n",
       "      <td>...</td>\n",
       "      <td>injection</td>\n",
       "      <td>3.47</td>\n",
       "      <td>2.68</td>\n",
       "      <td>9.0</td>\n",
       "      <td>111</td>\n",
       "      <td>5000</td>\n",
       "      <td>21</td>\n",
       "      <td>27</td>\n",
       "      <td>13495.0</td>\n",
       "      <td>alfa-romero</td>\n",
       "    </tr>\n",
       "    <tr>\n",
       "      <th>1</th>\n",
       "      <td>2</td>\n",
       "      <td>3</td>\n",
       "      <td>alfa-romero stelvio</td>\n",
       "      <td>gas</td>\n",
       "      <td>std</td>\n",
       "      <td>2</td>\n",
       "      <td>convertible</td>\n",
       "      <td>rwd</td>\n",
       "      <td>front</td>\n",
       "      <td>88.6</td>\n",
       "      <td>...</td>\n",
       "      <td>injection</td>\n",
       "      <td>3.47</td>\n",
       "      <td>2.68</td>\n",
       "      <td>9.0</td>\n",
       "      <td>111</td>\n",
       "      <td>5000</td>\n",
       "      <td>21</td>\n",
       "      <td>27</td>\n",
       "      <td>16500.0</td>\n",
       "      <td>alfa-romero</td>\n",
       "    </tr>\n",
       "    <tr>\n",
       "      <th>2</th>\n",
       "      <td>3</td>\n",
       "      <td>1</td>\n",
       "      <td>alfa-romero Quadrifoglio</td>\n",
       "      <td>gas</td>\n",
       "      <td>std</td>\n",
       "      <td>2</td>\n",
       "      <td>hatchback</td>\n",
       "      <td>rwd</td>\n",
       "      <td>front</td>\n",
       "      <td>94.5</td>\n",
       "      <td>...</td>\n",
       "      <td>injection</td>\n",
       "      <td>2.68</td>\n",
       "      <td>3.47</td>\n",
       "      <td>9.0</td>\n",
       "      <td>154</td>\n",
       "      <td>5000</td>\n",
       "      <td>19</td>\n",
       "      <td>26</td>\n",
       "      <td>16500.0</td>\n",
       "      <td>alfa-romero</td>\n",
       "    </tr>\n",
       "    <tr>\n",
       "      <th>3</th>\n",
       "      <td>4</td>\n",
       "      <td>2</td>\n",
       "      <td>audi 100 ls</td>\n",
       "      <td>gas</td>\n",
       "      <td>std</td>\n",
       "      <td>4</td>\n",
       "      <td>sedan</td>\n",
       "      <td>fwd</td>\n",
       "      <td>front</td>\n",
       "      <td>99.8</td>\n",
       "      <td>...</td>\n",
       "      <td>injection</td>\n",
       "      <td>3.19</td>\n",
       "      <td>3.40</td>\n",
       "      <td>10.0</td>\n",
       "      <td>102</td>\n",
       "      <td>5500</td>\n",
       "      <td>24</td>\n",
       "      <td>30</td>\n",
       "      <td>13950.0</td>\n",
       "      <td>audi</td>\n",
       "    </tr>\n",
       "    <tr>\n",
       "      <th>4</th>\n",
       "      <td>5</td>\n",
       "      <td>2</td>\n",
       "      <td>audi 100ls</td>\n",
       "      <td>gas</td>\n",
       "      <td>std</td>\n",
       "      <td>4</td>\n",
       "      <td>sedan</td>\n",
       "      <td>4wd</td>\n",
       "      <td>front</td>\n",
       "      <td>99.4</td>\n",
       "      <td>...</td>\n",
       "      <td>injection</td>\n",
       "      <td>3.19</td>\n",
       "      <td>3.40</td>\n",
       "      <td>8.0</td>\n",
       "      <td>115</td>\n",
       "      <td>5500</td>\n",
       "      <td>18</td>\n",
       "      <td>22</td>\n",
       "      <td>17450.0</td>\n",
       "      <td>audi</td>\n",
       "    </tr>\n",
       "  </tbody>\n",
       "</table>\n",
       "<p>5 rows × 27 columns</p>\n",
       "</div>"
      ],
      "text/plain": [
       "   car_ID  symboling                   CarName fueltype aspiration  \\\n",
       "0       1          3        alfa-romero giulia      gas        std   \n",
       "1       2          3       alfa-romero stelvio      gas        std   \n",
       "2       3          1  alfa-romero Quadrifoglio      gas        std   \n",
       "3       4          2               audi 100 ls      gas        std   \n",
       "4       5          2                audi 100ls      gas        std   \n",
       "\n",
       "   doornumber      carbody drivewheel enginelocation  wheelbase  ...  \\\n",
       "0           2  convertible        rwd          front       88.6  ...   \n",
       "1           2  convertible        rwd          front       88.6  ...   \n",
       "2           2    hatchback        rwd          front       94.5  ...   \n",
       "3           4        sedan        fwd          front       99.8  ...   \n",
       "4           4        sedan        4wd          front       99.4  ...   \n",
       "\n",
       "   fuelsystem  boreratio  stroke  compressionratio horsepower  peakrpm  \\\n",
       "0   injection       3.47    2.68               9.0        111     5000   \n",
       "1   injection       3.47    2.68               9.0        111     5000   \n",
       "2   injection       2.68    3.47               9.0        154     5000   \n",
       "3   injection       3.19    3.40              10.0        102     5500   \n",
       "4   injection       3.19    3.40               8.0        115     5500   \n",
       "\n",
       "   citympg highwaympg    price        brand  \n",
       "0       21         27  13495.0  alfa-romero  \n",
       "1       21         27  16500.0  alfa-romero  \n",
       "2       19         26  16500.0  alfa-romero  \n",
       "3       24         30  13950.0         audi  \n",
       "4       18         22  17450.0         audi  \n",
       "\n",
       "[5 rows x 27 columns]"
      ]
     },
     "execution_count": 12,
     "metadata": {},
     "output_type": "execute_result"
    }
   ],
   "source": [
    "df = pd.read_csv(\"../data/cleaned/CarPrice_cleaned.csv\")\n",
    "print(df.shape)\n",
    "df.head()"
   ]
  },
  {
   "cell_type": "markdown",
   "id": "d9932224",
   "metadata": {},
   "source": [
    "## Overview of the price data distribution\n",
    "This section will provide a brief overview of the price distribution. Let's first look at the summary statistics for price:"
   ]
  },
  {
   "cell_type": "code",
   "execution_count": 13,
   "id": "7862ee87",
   "metadata": {},
   "outputs": [
    {
     "data": {
      "text/plain": [
       "count      205.0\n",
       "mean     13276.7\n",
       "std       7988.9\n",
       "min       5118.0\n",
       "25%       7788.0\n",
       "50%      10295.0\n",
       "75%      16503.0\n",
       "max      45400.0\n",
       "Name: price, dtype: float64"
      ]
     },
     "execution_count": 13,
     "metadata": {},
     "output_type": "execute_result"
    }
   ],
   "source": [
    "df['price'].describe().round(1)"
   ]
  },
  {
   "cell_type": "markdown",
   "id": "c2eb75bd",
   "metadata": {},
   "source": [
    "This data will be easier to visualize when presented as a box plot and a swarm plot:"
   ]
  },
  {
   "cell_type": "code",
   "execution_count": 14,
   "id": "356719b0",
   "metadata": {},
   "outputs": [
    {
     "data": {
      "image/png": "[encoded data removed]",
      "text/plain": [
       "<Figure size 600x400 with 2 Axes>"
      ]
     },
     "metadata": {},
     "output_type": "display_data"
    }
   ],
   "source": [
    "fig, ax = plt.subplots(ncols=2, nrows=1, figsize=(6, 4))\n",
    "sns.boxplot(y='price', data=df, ax=ax[0])\n",
    "sns.swarmplot(y='price', data=df, ax=ax[1], color='blue', alpha=0.5)\n",
    "plt.tight_layout()\n",
    "plt.show()"
   ]
  },
  {
   "cell_type": "markdown",
   "id": "c9b61f02",
   "metadata": {},
   "source": [
    "Here we can clearly see that the majority of car prices are concentrated at the lower end of the price range, with a significant number of outliers in the higher price range. These are likely more premium car models.\n",
    "\n",
    "Next we will take a closer look at the price distribution with the kde plot overlayed over the histogram:"
   ]
  },
  {
   "cell_type": "code",
   "execution_count": 16,
   "id": "040e4f8c",
   "metadata": {},
   "outputs": [
    {
     "data": {
      "image/png": "[encoded data removed]",
      "text/plain": [
       "<Figure size 640x480 with 1 Axes>"
      ]
     },
     "metadata": {},
     "output_type": "display_data"
    }
   ],
   "source": [
    "sns.histplot(data=df, x='price', kde=True)\n",
    "plt.show()"
   ]
  },
  {
   "cell_type": "markdown",
   "id": "7b1ae793",
   "metadata": {},
   "source": [
    "Here we can see that the data shows a kind of mix between right skewed and bimodal data, with the second mode having clearly less objects. As expected most of the prices are concentrated in $5,000 - $20,000 range, with some significant outliers."
   ]
  },
  {
   "cell_type": "markdown",
   "id": "8520c3e9",
   "metadata": {},
   "source": [
    "## Categorical variables and average price"
   ]
  },
  {
   "cell_type": "markdown",
   "id": "b7f99897",
   "metadata": {},
   "source": []
  }
 ],
 "metadata": {
  "kernelspec": {
   "display_name": ".venv",
   "language": "python",
   "name": "python3"
  },
  "language_info": {
   "codemirror_mode": {
    "name": "ipython",
    "version": 3
   },
   "file_extension": ".py",
   "mimetype": "text/x-python",
   "name": "python",
   "nbconvert_exporter": "python",
   "pygments_lexer": "ipython3",
   "version": "3.12.10"
  }
 },
 "nbformat": 4,
 "nbformat_minor": 5
}
